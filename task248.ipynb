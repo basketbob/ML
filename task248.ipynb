{
 "cells": [
  {
   "cell_type": "code",
   "execution_count": 3,
   "metadata": {
    "colab": {
     "base_uri": "https://localhost:8080/"
    },
    "id": "By-CoZZdqvUv",
    "outputId": "a7c6152a-b50c-418a-ce08-bc4e4262ed60"
   },
   "outputs": [],
   "source": [
    "# !pip install catboost"
   ]
  },
  {
   "cell_type": "code",
   "execution_count": 2,
   "metadata": {
    "colab": {
     "base_uri": "https://localhost:8080/",
     "height": 270
    },
    "id": "6vhSoVGBoPep",
    "outputId": "7b8bfb46-95c4-4a33-c759-6c0b45298a8f"
   },
   "outputs": [],
   "source": [
    "import numpy as np\n",
    "import pandas as pd\n",
    "from catboost import CatBoostClassifier\n",
    "from sklearn.model_selection import train_test_split, GridSearchCV\n",
    "from sklearn.metrics import accuracy_score #, mean_squared_error\n",
    "from sklearn.model_selection import KFold, StratifiedKFold\n",
    "\n",
    "import ssl\n",
    "ssl._create_default_https_context = ssl._create_unverified_context"
   ]
  },
  {
   "cell_type": "code",
   "execution_count": 4,
   "metadata": {},
   "outputs": [
    {
     "data": {
      "text/html": [
       "<div>\n",
       "<style scoped>\n",
       "    .dataframe tbody tr th:only-of-type {\n",
       "        vertical-align: middle;\n",
       "    }\n",
       "\n",
       "    .dataframe tbody tr th {\n",
       "        vertical-align: top;\n",
       "    }\n",
       "\n",
       "    .dataframe thead th {\n",
       "        text-align: right;\n",
       "    }\n",
       "</style>\n",
       "<table border=\"1\" class=\"dataframe\">\n",
       "  <thead>\n",
       "    <tr style=\"text-align: right;\">\n",
       "      <th></th>\n",
       "      <th>user_id</th>\n",
       "      <th>car_id</th>\n",
       "      <th>ride_id</th>\n",
       "      <th>ride_date</th>\n",
       "      <th>rating</th>\n",
       "      <th>ride_duration</th>\n",
       "      <th>ride_cost</th>\n",
       "      <th>speed_avg</th>\n",
       "      <th>speed_max</th>\n",
       "      <th>stop_times</th>\n",
       "      <th>distance</th>\n",
       "      <th>refueling</th>\n",
       "      <th>user_ride_quality</th>\n",
       "      <th>deviation_normal</th>\n",
       "    </tr>\n",
       "  </thead>\n",
       "  <tbody>\n",
       "    <tr>\n",
       "      <th>433584</th>\n",
       "      <td>w31950390Y</td>\n",
       "      <td>e22337672e</td>\n",
       "      <td>S1I</td>\n",
       "      <td>2020-03-20</td>\n",
       "      <td>4.26</td>\n",
       "      <td>566</td>\n",
       "      <td>9051</td>\n",
       "      <td>46</td>\n",
       "      <td>81.0</td>\n",
       "      <td>2</td>\n",
       "      <td>1401.173106</td>\n",
       "      <td>0</td>\n",
       "      <td>12.11073</td>\n",
       "      <td>-6.698</td>\n",
       "    </tr>\n",
       "  </tbody>\n",
       "</table>\n",
       "</div>"
      ],
      "text/plain": [
       "           user_id      car_id ride_id   ride_date  rating  ride_duration  \\\n",
       "433584  w31950390Y  e22337672e     S1I  2020-03-20    4.26            566   \n",
       "\n",
       "        ride_cost  speed_avg  speed_max  stop_times     distance  refueling  \\\n",
       "433584       9051         46       81.0           2  1401.173106          0   \n",
       "\n",
       "        user_ride_quality  deviation_normal  \n",
       "433584           12.11073            -6.698  "
      ]
     },
     "execution_count": 4,
     "metadata": {},
     "output_type": "execute_result"
    }
   ],
   "source": [
    "PATH = 'https://raw.githubusercontent.com/a-milenkin/Competitive_Data_Science/main/data/'\n",
    "\n",
    "train = pd.read_csv(PATH + 'car_train.csv')\n",
    "test = pd.read_csv(PATH + 'car_test.csv')\n",
    "rides = pd.read_csv(PATH + 'rides_info.csv')\n",
    "\n",
    "rides.sample(1)"
   ]
  },
  {
   "cell_type": "code",
   "execution_count": 70,
   "metadata": {},
   "outputs": [
    {
     "data": {
      "text/plain": [
       "array(['another_bug', 'electro_bug', 'gear_stick', 'engine_fuel',\n",
       "       'engine_ignition', 'engine_overheat', 'engine_check',\n",
       "       'wheel_shake', 'break_bug'], dtype=object)"
      ]
     },
     "execution_count": 70,
     "metadata": {},
     "output_type": "execute_result"
    }
   ],
   "source": [
    "train['target_class'].unique()"
   ]
  },
  {
   "cell_type": "code",
   "execution_count": 47,
   "metadata": {
    "id": "CIEmlHpq1oYJ"
   },
   "outputs": [],
   "source": [
    "features2drop = ['car_id', 'deviation_normal_count', 'user_ride_quality_median', 'distance_sum', 'year_to_work', 'riders', 'year_to_start', 'car_rating', 'fuel_type'] # то что надо выбросить\n",
    "targets = ['target_class', 'target_reg']\n",
    "# cat_features = ['car_type', 'fuel_type', 'model'] # категориальные признаки\n",
    "cat_features = ['car_type', 'model']\n",
    "\n",
    "filtered_features = [i for i in train.columns if (i not in targets and i not in features2drop)]\n",
    "num_features = [i for i in filtered_features if i not in cat_features]\n",
    "\n",
    "X = train[filtered_features].drop(targets, axis=1, errors='ignore')\n",
    "y = train['target_class']"
   ]
  },
  {
   "cell_type": "code",
   "execution_count": 48,
   "metadata": {
    "id": "FwvRNwS41oNq"
   },
   "outputs": [],
   "source": [
    "f = lambda x: x.nunique()\n",
    "rides_df_gr = rides.groupby('car_id', as_index=False).agg(mean_rating = ('rating', 'mean'),\n",
    "                                                   distance_sum = ('distance', 'sum'),\n",
    "                                                   rating_min = ('rating', 'min'),\n",
    "                                                   speed_max = ('speed_max', 'max'),\n",
    "                                                   user_ride_quality_median = ('user_ride_quality', 'median'),\n",
    "                                                   deviation_normal_count = ('deviation_normal', 'count'),\n",
    "                                                   user_uniq = ('user_id', f))\n",
    "\n",
    "def add_featues(df):\n",
    "\n",
    "    if 'mean_rating' not in df.columns:\n",
    "        return df.merge(rides_df_gr, on = 'car_id', how = 'left')\n",
    "\n",
    "    return df\n",
    "\n",
    "\n",
    "train = add_featues(train)\n",
    "test = add_featues(test)\n",
    "\n",
    "filtered_features = [i for i in train.columns if (i not in targets and i not in features2drop)]\n",
    "num_features = [i for i in filtered_features if i not in cat_features]\n",
    "\n",
    "X = train[filtered_features].drop(targets, axis=1, errors='ignore')\n",
    "y = train['target_class']"
   ]
  },
  {
   "cell_type": "code",
   "execution_count": 69,
   "metadata": {
    "colab": {
     "base_uri": "https://localhost:8080/"
    },
    "id": "zGIREYdpoftT",
    "outputId": "7d4e34cf-58af-497a-cf13-8abd1cccbcba"
   },
   "outputs": [
    {
     "name": "stderr",
     "output_type": "stream",
     "text": [
      "/Library/Frameworks/Python.framework/Versions/3.10/lib/python3.10/site-packages/catboost/core.py:1419: FutureWarning: iteritems is deprecated and will be removed in a future version. Use .items instead.\n",
      "  self._init_pool(data, label, cat_features, text_features, embedding_features, embedding_features_data, pairs, weight,\n"
     ]
    },
    {
     "name": "stdout",
     "output_type": "stream",
     "text": [
      "0:\tlearn: 2.1495725\ttest: 2.1499516\tbest: 2.1499516 (0)\ttotal: 95.2ms\tremaining: 24.3s\n",
      "150:\tlearn: 0.6582197\ttest: 0.7779875\tbest: 0.7779875 (150)\ttotal: 16.9s\tremaining: 11.8s\n",
      "255:\tlearn: 0.4644130\ttest: 0.6372073\tbest: 0.6372073 (255)\ttotal: 29.2s\tremaining: 0us\n",
      "\n",
      "bestTest = 0.6372073435\n",
      "bestIteration = 255\n",
      "\n",
      "\n",
      " Accuracy: 0.7606837606837606\n",
      "fold: 0 acc: 0.7606837606837606\n",
      "0:\tlearn: 2.1529640\ttest: 2.1532185\tbest: 2.1532185 (0)\ttotal: 99.2ms\tremaining: 25.3s\n"
     ]
    },
    {
     "name": "stderr",
     "output_type": "stream",
     "text": [
      "/Library/Frameworks/Python.framework/Versions/3.10/lib/python3.10/site-packages/catboost/core.py:1419: FutureWarning: iteritems is deprecated and will be removed in a future version. Use .items instead.\n",
      "  self._init_pool(data, label, cat_features, text_features, embedding_features, embedding_features_data, pairs, weight,\n"
     ]
    },
    {
     "name": "stdout",
     "output_type": "stream",
     "text": [
      "150:\tlearn: 0.6787476\ttest: 0.7516689\tbest: 0.7516689 (150)\ttotal: 18.1s\tremaining: 12.6s\n",
      "255:\tlearn: 0.4879735\ttest: 0.6059515\tbest: 0.6059515 (255)\ttotal: 30s\tremaining: 0us\n",
      "\n",
      "bestTest = 0.6059515113\n",
      "bestIteration = 255\n",
      "\n",
      "\n",
      " Accuracy: 0.8290598290598291\n",
      "fold: 1 acc: 0.8290598290598291\n",
      "0:\tlearn: 2.1587413\ttest: 2.1609379\tbest: 2.1609379 (0)\ttotal: 98.8ms\tremaining: 25.2s\n"
     ]
    },
    {
     "name": "stderr",
     "output_type": "stream",
     "text": [
      "/Library/Frameworks/Python.framework/Versions/3.10/lib/python3.10/site-packages/catboost/core.py:1419: FutureWarning: iteritems is deprecated and will be removed in a future version. Use .items instead.\n",
      "  self._init_pool(data, label, cat_features, text_features, embedding_features, embedding_features_data, pairs, weight,\n"
     ]
    },
    {
     "name": "stdout",
     "output_type": "stream",
     "text": [
      "150:\tlearn: 0.6582096\ttest: 0.7948458\tbest: 0.7948458 (150)\ttotal: 16.5s\tremaining: 11.5s\n",
      "255:\tlearn: 0.4671343\ttest: 0.6536451\tbest: 0.6536451 (255)\ttotal: 28.2s\tremaining: 0us\n",
      "\n",
      "bestTest = 0.6536451054\n",
      "bestIteration = 255\n",
      "\n",
      "\n",
      " Accuracy: 0.7922912205567452\n",
      "fold: 2 acc: 0.7922912205567452\n",
      "0:\tlearn: 2.1495318\ttest: 2.1502490\tbest: 2.1502490 (0)\ttotal: 120ms\tremaining: 30.6s\n"
     ]
    },
    {
     "name": "stderr",
     "output_type": "stream",
     "text": [
      "/Library/Frameworks/Python.framework/Versions/3.10/lib/python3.10/site-packages/catboost/core.py:1419: FutureWarning: iteritems is deprecated and will be removed in a future version. Use .items instead.\n",
      "  self._init_pool(data, label, cat_features, text_features, embedding_features, embedding_features_data, pairs, weight,\n"
     ]
    },
    {
     "name": "stdout",
     "output_type": "stream",
     "text": [
      "150:\tlearn: 0.6672036\ttest: 0.7698236\tbest: 0.7698236 (150)\ttotal: 16.9s\tremaining: 11.8s\n",
      "255:\tlearn: 0.4781878\ttest: 0.6299286\tbest: 0.6299286 (255)\ttotal: 28.5s\tremaining: 0us\n",
      "\n",
      "bestTest = 0.6299285653\n",
      "bestIteration = 255\n",
      "\n",
      "\n",
      " Accuracy: 0.7708779443254818\n",
      "fold: 3 acc: 0.7708779443254818\n",
      "0:\tlearn: 2.1683534\ttest: 2.1719721\tbest: 2.1719721 (0)\ttotal: 108ms\tremaining: 27.6s\n"
     ]
    },
    {
     "name": "stderr",
     "output_type": "stream",
     "text": [
      "/Library/Frameworks/Python.framework/Versions/3.10/lib/python3.10/site-packages/catboost/core.py:1419: FutureWarning: iteritems is deprecated and will be removed in a future version. Use .items instead.\n",
      "  self._init_pool(data, label, cat_features, text_features, embedding_features, embedding_features_data, pairs, weight,\n"
     ]
    },
    {
     "name": "stdout",
     "output_type": "stream",
     "text": [
      "150:\tlearn: 0.6695948\ttest: 0.7804345\tbest: 0.7804345 (150)\ttotal: 16.8s\tremaining: 11.7s\n",
      "255:\tlearn: 0.4777732\ttest: 0.6297351\tbest: 0.6297351 (255)\ttotal: 28.6s\tremaining: 0us\n",
      "\n",
      "bestTest = 0.6297350542\n",
      "bestIteration = 255\n",
      "\n",
      "\n",
      " Accuracy: 0.7922912205567452\n",
      "fold: 4 acc: 0.7922912205567452\n",
      "mean accuracy score -- 0.789 0.0235\n"
     ]
    }
   ],
   "source": [
    "n_splits = 5\n",
    "clfs = []\n",
    "scores = []\n",
    "\n",
    "# параметры валидации, обучение будет идти на n_splits (фолдах)\n",
    "kf = StratifiedKFold(n_splits=n_splits, shuffle=True, random_state=7575)\n",
    "for num, (train_index, test_index) in enumerate(kf.split(X, y)):\n",
    "\n",
    "    X_train, X_test = X.iloc[train_index], X.iloc[test_index]\n",
    "    y_train, y_test = y.iloc[train_index], y.iloc[test_index]\n",
    "\n",
    "    clf = CatBoostClassifier(cat_features=cat_features,\n",
    "                             random_state=42,\n",
    "                             iterations=256,\n",
    "                             learning_rate=0.01,\n",
    "                             depth=9,\n",
    "                             l2_leaf_reg=1.2995500754435721e-08,\n",
    "                             bootstrap_type='Bayesian',\n",
    "                             random_strength=0.00010495778497690342,\n",
    "                             bagging_temperature=9.880550666320023,\n",
    "                             od_type='Iter',\n",
    "                             od_wait=42)\n",
    "\n",
    "    clfs.append(clf)  # Сохраняем модель для дальнейшего использования\n",
    "\n",
    "    clf.fit(X_train, y_train, eval_set=(X_test, y_test), verbose=150, plot=False)\n",
    "\n",
    "    # инференс модели\n",
    "    y_pred = clf.predict(X_test)\n",
    "    score = accuracy_score(y_test, y_pred)\n",
    "    print(f'\\n Accuracy: {score}')\n",
    "\n",
    "    scores.append(score)\n",
    "    print(f\"fold: {num} acc: {score}\")\n",
    "\n",
    "# Считаем среднее и дисперсию по всем фолдам\n",
    "print(\"mean accuracy score --\", np.mean(scores, dtype=\"float16\"), np.std(scores).round(4))"
   ]
  },
  {
   "cell_type": "code",
   "execution_count": 67,
   "metadata": {},
   "outputs": [
    {
     "name": "stdout",
     "output_type": "stream",
     "text": [
      "1\n",
      "[ 0.         11.34922037 31.47604748 13.02922055 35.89507208  8.25043953]\n",
      "['model', 'car_type', 'mean_rating', 'rating_min', 'speed_max', 'user_uniq']\n",
      "model = 0.0\n",
      "car_type = 11.349220366464944\n",
      "mean_rating = 31.476047477897225\n",
      "rating_min = 13.02922054770155\n",
      "speed_max = 35.89507208139442\n",
      "user_uniq = 8.250439526541832\n"
     ]
    }
   ],
   "source": [
    "print(scores.index(max(scores)))\n",
    "print(clf.feature_importances_)\n",
    "print(clf.feature_names_)\n",
    "\n",
    "for i in range(len(clf.feature_importances_)):\n",
    "    print(clf.feature_names_[i], '=', clf.feature_importances_[i])"
   ]
  },
  {
   "cell_type": "code",
   "execution_count": 68,
   "metadata": {
    "id": "_oaAo35igqVd"
   },
   "outputs": [
    {
     "name": "stderr",
     "output_type": "stream",
     "text": [
      "/Library/Frameworks/Python.framework/Versions/3.10/lib/python3.10/site-packages/catboost/core.py:1419: FutureWarning: iteritems is deprecated and will be removed in a future version. Use .items instead.\n",
      "  self._init_pool(data, label, cat_features, text_features, embedding_features, embedding_features_data, pairs, weight,\n"
     ]
    }
   ],
   "source": [
    "best_model_id = scores.index(max(scores))\n",
    "test['target_class'] = clfs[best_model_id].predict(test[filtered_features])"
   ]
  },
  {
   "cell_type": "code",
   "execution_count": 55,
   "metadata": {},
   "outputs": [],
   "source": [
    "test[['car_id', 'target_class']].to_csv('simple_baseline_v10.csv', index=False)"
   ]
  }
 ],
 "metadata": {
  "colab": {
   "provenance": []
  },
  "kernelspec": {
   "display_name": "Python 3 (ipykernel)",
   "language": "python",
   "name": "python3"
  },
  "language_info": {
   "codemirror_mode": {
    "name": "ipython",
    "version": 3
   },
   "file_extension": ".py",
   "mimetype": "text/x-python",
   "name": "python",
   "nbconvert_exporter": "python",
   "pygments_lexer": "ipython3",
   "version": "3.10.2"
  }
 },
 "nbformat": 4,
 "nbformat_minor": 1
}
