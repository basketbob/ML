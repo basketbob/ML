{
 "cells": [
  {
   "cell_type": "markdown",
   "id": "4c578688",
   "metadata": {
    "papermill": {
     "duration": 0.003854,
     "end_time": "2023-10-09T08:59:11.547776",
     "exception": false,
     "start_time": "2023-10-09T08:59:11.543922",
     "status": "completed"
    },
    "tags": []
   },
   "source": [
    "# Platypus2-70B + Wikipedia RAG\n"
   ]
  },
  {
   "cell_type": "markdown",
   "id": "003189f2",
   "metadata": {
    "papermill": {
     "duration": 0.002963,
     "end_time": "2023-10-09T08:59:11.554038",
     "exception": false,
     "start_time": "2023-10-09T08:59:11.551075",
     "status": "completed"
    },
    "tags": []
   },
   "source": [
    "## Installing"
   ]
  },
  {
   "cell_type": "code",
   "execution_count": 1,
   "id": "6e7abbb8",
   "metadata": {
    "_cell_guid": "b1076dfc-b9ad-4769-8c92-a6c4dae69d19",
    "_uuid": "8f2839f25d086af736a60e9eeb907d3b93b6e0e5",
    "execution": {
     "iopub.execute_input": "2023-10-09T08:59:11.561754Z",
     "iopub.status.busy": "2023-10-09T08:59:11.561452Z",
     "iopub.status.idle": "2023-10-09T09:00:07.400949Z",
     "shell.execute_reply": "2023-10-09T09:00:07.399750Z"
    },
    "papermill": {
     "duration": 55.846438,
     "end_time": "2023-10-09T09:00:07.403456",
     "exception": false,
     "start_time": "2023-10-09T08:59:11.557018",
     "status": "completed"
    },
    "tags": []
   },
   "outputs": [
    {
     "name": "stdout",
     "output_type": "stream",
     "text": [
      "Processing /kaggle/input/faiss-gpu-173-python310/faiss_gpu-1.7.2-cp310-cp310-manylinux_2_17_x86_64.manylinux2014_x86_64.whl\r\n",
      "Installing collected packages: faiss-gpu\r\n",
      "Successfully installed faiss-gpu-1.7.2\r\n",
      "Processing /kaggle/input/datasets-214/datasets-2.14.5-py3-none-any.whl\r\n",
      "Installing collected packages: datasets\r\n",
      "  Attempting uninstall: datasets\r\n",
      "    Found existing installation: datasets 2.1.0\r\n",
      "    Uninstalling datasets-2.1.0:\r\n",
      "      Successfully uninstalled datasets-2.1.0\r\n",
      "Successfully installed datasets-2.14.5\r\n"
     ]
    }
   ],
   "source": [
    "# Installing offline dependencies\n",
    "!pip install -U --no-deps /kaggle/input/faiss-gpu-173-python310/faiss_gpu-1.7.2-cp310-cp310-manylinux_2_17_x86_64.manylinux2014_x86_64.whl\n",
    "!pip install -U --no-deps /kaggle/input/datasets-214/datasets-2.14.5-py3-none-any.whl"
   ]
  },
  {
   "cell_type": "markdown",
   "id": "520f947e",
   "metadata": {
    "papermill": {
     "duration": 0.003755,
     "end_time": "2023-10-09T09:00:07.411221",
     "exception": false,
     "start_time": "2023-10-09T09:00:07.407466",
     "status": "completed"
    },
    "tags": []
   },
   "source": [
    "## Imports & constants"
   ]
  },
  {
   "cell_type": "code",
   "execution_count": 2,
   "id": "b76587ee",
   "metadata": {
    "execution": {
     "iopub.execute_input": "2023-10-09T09:00:07.420559Z",
     "iopub.status.busy": "2023-10-09T09:00:07.419917Z",
     "iopub.status.idle": "2023-10-09T09:00:31.257216Z",
     "shell.execute_reply": "2023-10-09T09:00:31.256316Z"
    },
    "papermill": {
     "duration": 23.844393,
     "end_time": "2023-10-09T09:00:31.259313",
     "exception": false,
     "start_time": "2023-10-09T09:00:07.414920",
     "status": "completed"
    },
    "tags": []
   },
   "outputs": [
    {
     "name": "stderr",
     "output_type": "stream",
     "text": [
      "/opt/conda/lib/python3.10/site-packages/scipy/__init__.py:146: UserWarning: A NumPy version >=1.16.5 and <1.23.0 is required for this version of SciPy (detected version 1.23.5\n",
      "  warnings.warn(f\"A NumPy version >={np_minversion} and <{np_maxversion}\"\n"
     ]
    }
   ],
   "source": [
    "import os\n",
    "import gc\n",
    "import logging\n",
    "from time import time\n",
    "from pathlib import Path\n",
    "from concurrent.futures import ThreadPoolExecutor\n",
    "import ctypes\n",
    "from functools import partial\n",
    "\n",
    "import torch\n",
    "import numpy as np\n",
    "import pandas as pd\n",
    "from tqdm.auto import tqdm\n",
    "\n",
    "# For RAG\n",
    "import faiss\n",
    "import torch.nn.functional as F\n",
    "from torch.utils.data import DataLoader\n",
    "from datasets import load_from_disk, Dataset\n",
    "\n",
    "# For LLM\n",
    "from transformers import AutoConfig, AutoModelForCausalLM, AutoTokenizer, AutoModel\n",
    "from accelerate import init_empty_weights\n",
    "from accelerate.utils.modeling import set_module_tensor_to_device\n",
    "from safetensors.torch import load_file\n",
    "\n",
    "# Constants\n",
    "NUM_TITLES = 5\n",
    "MAX_SEQ_LEN = 512\n",
    "MODEL_PATH = \"/kaggle/input/bge-small-faiss/\"\n",
    "N_BATCHES = 5 \n",
    "MAX_CONTEXT = 2700\n",
    "MAX_LENGTH = 4096"
   ]
  },
  {
   "cell_type": "markdown",
   "id": "2d3d1c0d",
   "metadata": {
    "papermill": {
     "duration": 0.003361,
     "end_time": "2023-10-09T09:00:31.266806",
     "exception": false,
     "start_time": "2023-10-09T09:00:31.263445",
     "status": "completed"
    },
    "tags": []
   },
   "source": [
    "## clean_memory & load test.csv"
   ]
  },
  {
   "cell_type": "code",
   "execution_count": 3,
   "id": "0ffa05a5",
   "metadata": {
    "execution": {
     "iopub.execute_input": "2023-10-09T09:00:31.275991Z",
     "iopub.status.busy": "2023-10-09T09:00:31.275438Z",
     "iopub.status.idle": "2023-10-09T09:00:31.321319Z",
     "shell.execute_reply": "2023-10-09T09:00:31.320363Z"
    },
    "papermill": {
     "duration": 0.052677,
     "end_time": "2023-10-09T09:00:31.323315",
     "exception": false,
     "start_time": "2023-10-09T09:00:31.270638",
     "status": "completed"
    },
    "tags": []
   },
   "outputs": [],
   "source": [
    "# Function to clean RAM & vRAM\n",
    "def clean_memory():\n",
    "    gc.collect()\n",
    "    ctypes.CDLL(\"libc.so.6\").malloc_trim(0)\n",
    "    torch.cuda.empty_cache()\n",
    "\n",
    "# Load data\n",
    "df = pd.read_csv(\"/kaggle/input/kaggle-llm-science-exam/test.csv\", index_col=\"id\")"
   ]
  },
  {
   "cell_type": "markdown",
   "id": "1e135a8b",
   "metadata": {
    "papermill": {
     "duration": 0.003452,
     "end_time": "2023-10-09T09:00:31.330588",
     "exception": false,
     "start_time": "2023-10-09T09:00:31.327136",
     "status": "completed"
    },
    "tags": []
   },
   "source": [
    "## 1. Wikipedia Retrieval Augmented Generation (RAG)"
   ]
  },
  {
   "cell_type": "markdown",
   "id": "2cd32960",
   "metadata": {
    "papermill": {
     "duration": 0.00331,
     "end_time": "2023-10-09T09:00:31.337363",
     "exception": false,
     "start_time": "2023-10-09T09:00:31.334053",
     "status": "completed"
    },
    "tags": []
   },
   "source": [
    "## SentenceTransformer"
   ]
  },
  {
   "cell_type": "code",
   "execution_count": 4,
   "id": "5aa66f45",
   "metadata": {
    "execution": {
     "iopub.execute_input": "2023-10-09T09:00:31.345858Z",
     "iopub.status.busy": "2023-10-09T09:00:31.345580Z",
     "iopub.status.idle": "2023-10-09T09:00:31.353511Z",
     "shell.execute_reply": "2023-10-09T09:00:31.352537Z"
    },
    "papermill": {
     "duration": 0.014213,
     "end_time": "2023-10-09T09:00:31.355262",
     "exception": false,
     "start_time": "2023-10-09T09:00:31.341049",
     "status": "completed"
    },
    "tags": []
   },
   "outputs": [],
   "source": [
    "class SentenceTransformer:\n",
    "    def __init__(self, checkpoint, device=\"cuda:0\"):\n",
    "        self.device = device\n",
    "        self.checkpoint = checkpoint\n",
    "        self.model = AutoModel.from_pretrained(checkpoint).to(self.device).half()\n",
    "        self.tokenizer = AutoTokenizer.from_pretrained(checkpoint)\n",
    "\n",
    "    def transform(self, batch):\n",
    "        tokens = self.tokenizer(batch[\"text\"], truncation=True, padding=True, return_tensors=\"pt\", max_length=MAX_SEQ_LEN)\n",
    "        return tokens.to(self.device)  \n",
    "\n",
    "    def get_dataloader(self, sentences, batch_size=32):\n",
    "        sentences = [\"Represent this sentence for searching relevant context: \" + x for x in sentences]\n",
    "        dataset = Dataset.from_dict({\"text\": sentences})\n",
    "        dataset.set_transform(self.transform)\n",
    "        dataloader = DataLoader(dataset, batch_size=batch_size, shuffle=False)\n",
    "        return dataloader\n",
    "\n",
    "    def encode(self, sentences, show_progress_bar=False, batch_size=32):\n",
    "        dataloader = self.get_dataloader(sentences, batch_size=batch_size)\n",
    "        pbar = tqdm(dataloader) if show_progress_bar else dataloader\n",
    "\n",
    "        embeddings = []\n",
    "        for batch in pbar:\n",
    "            with torch.no_grad():\n",
    "                e = self.model(**batch).pooler_output\n",
    "                e = F.normalize(e, p=2, dim=1)\n",
    "                embeddings.append(e.detach().cpu().numpy())\n",
    "        embeddings = np.concatenate(embeddings, axis=0)\n",
    "        return embeddings"
   ]
  },
  {
   "cell_type": "code",
   "execution_count": 5,
   "id": "d5ee2861",
   "metadata": {
    "execution": {
     "iopub.execute_input": "2023-10-09T09:00:31.363261Z",
     "iopub.status.busy": "2023-10-09T09:00:31.363029Z",
     "iopub.status.idle": "2023-10-09T09:00:31.369347Z",
     "shell.execute_reply": "2023-10-09T09:00:31.368572Z"
    },
    "papermill": {
     "duration": 0.012377,
     "end_time": "2023-10-09T09:00:31.371049",
     "exception": false,
     "start_time": "2023-10-09T09:00:31.358672",
     "status": "completed"
    },
    "tags": []
   },
   "outputs": [],
   "source": [
    "if os.getenv('KAGGLE_IS_COMPETITION_RERUN'):\n",
    "    # Load embedding model\n",
    "    start = time()\n",
    "    model = SentenceTransformer(MODEL_PATH, device=\"cuda:0\")\n",
    "\n",
    "    # Get embeddings of prompts\n",
    "    f = lambda row : \" \".join([row[\"prompt\"], row[\"A\"], row[\"B\"], row[\"C\"], row[\"D\"], row[\"E\"]])\n",
    "    inputs = df.apply(f, axis=1).values # better results than prompt only\n",
    "    prompt_embeddings = model.encode(inputs, show_progress_bar=False)\n",
    "\n",
    "    # Search closest sentences in the wikipedia index\n",
    "    faiss_index = faiss.read_index(MODEL_PATH + '/faiss.index')\n",
    "    search_index = faiss_index.search(np.float32(prompt_embeddings), NUM_TITLES)[1]\n",
    "\n",
    "    # load text by search_index to [context]\n",
    "    dataset = load_from_disk(\"/kaggle/input/all-paraphs-parsed-expanded\")\n",
    "    for i in range(len(df)):\n",
    "        df.loc[i, \"context\"] = \"-\" + \"\\n-\".join([dataset[int(j)][\"text\"] for j in search_index[i]])\n",
    "\n",
    "    # Free memory\n",
    "    faiss_index.reset()\n",
    "    del faiss_index, prompt_embeddings, model, dataset\n",
    "    clean_memory()\n",
    "    print(f\"Context added, t={time() - start :.1f}s\")"
   ]
  },
  {
   "cell_type": "markdown",
   "id": "30f1e013",
   "metadata": {
    "papermill": {
     "duration": 0.003139,
     "end_time": "2023-10-09T09:00:31.377812",
     "exception": false,
     "start_time": "2023-10-09T09:00:31.374673",
     "status": "completed"
    },
    "tags": []
   },
   "source": [
    "## 2: Run Platypus2-70B\n",
    "\n",
    "To run such a large model on a single T4 GPU, we run it layer by layer and sample by sample"
   ]
  },
  {
   "cell_type": "code",
   "execution_count": 6,
   "id": "0adaf330",
   "metadata": {
    "execution": {
     "iopub.execute_input": "2023-10-09T09:00:31.385562Z",
     "iopub.status.busy": "2023-10-09T09:00:31.385281Z",
     "iopub.status.idle": "2023-10-09T09:00:31.428244Z",
     "shell.execute_reply": "2023-10-09T09:00:31.427461Z"
    },
    "papermill": {
     "duration": 0.04864,
     "end_time": "2023-10-09T09:00:31.429950",
     "exception": false,
     "start_time": "2023-10-09T09:00:31.381310",
     "status": "completed"
    },
    "tags": []
   },
   "outputs": [],
   "source": [
    "# Create symlinks from kaggle datasets to fake cached model\n",
    "\n",
    "checkpoint_path = Path(\"/root/.cache/\")\n",
    "checkpoint_path.mkdir(exist_ok=True, parents=True)\n",
    "\n",
    "for part in [1, 2]:\n",
    "    source_dir = Path(f\"/kaggle/input/platypus2-70b-instruct-part{part}\")\n",
    "    for path in source_dir.glob(\"*\"):\n",
    "        try:\n",
    "            (checkpoint_path / path.name).symlink_to(path)\n",
    "        except:\n",
    "            pass"
   ]
  },
  {
   "cell_type": "markdown",
   "id": "e6dc1bc2",
   "metadata": {
    "papermill": {
     "duration": 0.003331,
     "end_time": "2023-10-09T09:00:31.436762",
     "exception": false,
     "start_time": "2023-10-09T09:00:31.433431",
     "status": "completed"
    },
    "tags": []
   },
   "source": [
    "## Class for sharded llama"
   ]
  },
  {
   "cell_type": "code",
   "execution_count": 7,
   "id": "995ecca0",
   "metadata": {
    "execution": {
     "iopub.execute_input": "2023-10-09T09:00:31.445112Z",
     "iopub.status.busy": "2023-10-09T09:00:31.444889Z",
     "iopub.status.idle": "2023-10-09T09:00:31.461177Z",
     "shell.execute_reply": "2023-10-09T09:00:31.460282Z"
    },
    "papermill": {
     "duration": 0.02283,
     "end_time": "2023-10-09T09:00:31.463002",
     "exception": false,
     "start_time": "2023-10-09T09:00:31.440172",
     "status": "completed"
    },
    "tags": []
   },
   "outputs": [],
   "source": [
    "class ShardedLlama:\n",
    "    def __init__(self, checkpoint_path, device=\"cuda:0\", dtype=torch.float16):\n",
    "        \"\"\"\n",
    "        Sharded version of LlamaForCausalLM : the model is splitted into layer shards to reduce GPU memory usage.\n",
    "        During the forward pass, the inputs are processed layer by layer, and the GPU memory is freed after each layer.\n",
    "        To avoid loading the layers multiple times, we could save all the intermediate activations in RAM, but\n",
    "        as Kaggle accelerators have more GPU memory than CPU, we simply batch the inputs and keep them on the GPU.\n",
    "\n",
    "        Parameters\n",
    "        ----------\n",
    "        checkpoint_path : str or Path\n",
    "            path to the checkpoint\n",
    "        device : str, optional\n",
    "            device, by default \"cuda:0\"\n",
    "        dtype : torch.dtype, optional\n",
    "            dtype, by default torch.float16\n",
    "        \"\"\"\n",
    "        \n",
    "        # Save parameters\n",
    "        self.checkpoint_path = Path(checkpoint_path)\n",
    "        self.device = device \n",
    "        self.dtype = dtype\n",
    "\n",
    "        # Create model\n",
    "        self.config = AutoConfig.from_pretrained(self.checkpoint_path)\n",
    "        # For flash attention when Turing architecture will be supported : https://github.com/Dao-AILab/flash-attention/issues/542\n",
    "        # self.config.auto_map = {\"AutoModelForCausalLM\" : \"togethercomputer/LLaMA-2-7B-32K--modeling_flash_llama.LlamaForCausalLM\"} \n",
    "        \n",
    "        self.tokenizer = AutoTokenizer.from_pretrained(checkpoint_path)\n",
    "        self.tokenizer.pad_token = self.tokenizer.eos_token\n",
    "        self.tokenizer.padding_side = \"right\"\n",
    "        self.init_model()\n",
    "        self.layer_names = [\"model.embed_tokens\"] + [f\"model.layers.{i}\" for i in range(len(self.model.model.layers))] + [\"model.norm\", \"lm_head\"]\n",
    "\n",
    "    def init_model(self):\n",
    "    \n",
    "        # Load meta model (no memory used)\n",
    "        with init_empty_weights():\n",
    "            self.model = AutoModelForCausalLM.from_config(self.config, trust_remote_code=True)\n",
    "            self.model.tie_weights()\n",
    "            \n",
    "        self.layers = [self.model.model.embed_tokens] + list(self.model.model.layers) + [self.model.model.norm, self.model.lm_head]\n",
    "            \n",
    "        # Move buffers to device (not that much GPU memory used)\n",
    "        for buffer_name, buffer in self.model.named_buffers():\n",
    "            set_module_tensor_to_device(self.model, buffer_name, self.device, value=buffer, dtype=self.dtype)\n",
    "\n",
    "    def load_layer(self, layer_name):\n",
    "        state_dict = load_file(self.checkpoint_path / (layer_name + \".safetensors\"), device=self.device)\n",
    "        for param_name, param in state_dict.items():\n",
    "            assert param.dtype != torch.int8, \"int8 not supported (need to add fp16_statistics)\"\n",
    "            set_module_tensor_to_device(self.model, param_name, self.device, value=param, dtype=self.dtype)\n",
    "\n",
    "    def __call__(self, inputs, output_token):\n",
    "        # inputs = [(prefix, suffix), ...] with prefix.shape[0] = 1 and suffix.shape[0] = 5\n",
    "        \n",
    "        # Reboot the model to make sure buffers are loaded and memory is clean\n",
    "        del self.model\n",
    "        clean_memory()\n",
    "        self.init_model()\n",
    "        \n",
    "       # Send batch to device\n",
    "        batch = [(prefix.to(self.device), suffix.to(self.device)) for prefix, suffix in inputs]\n",
    "        n_suffixes = len(batch[0][1])\n",
    "        suffix_eos = [(suffix != self.tokenizer.pad_token_id).sum(1) - 1 for _, suffix in inputs]\n",
    "\n",
    "        # Create attention mask for the largest input, and position ids to use KV cache\n",
    "        attention_mask = torch.finfo(self.dtype).min * torch.ones(MAX_LENGTH, MAX_LENGTH)\n",
    "        attention_mask = attention_mask.triu(diagonal=1)[None, None, ...]\n",
    "        attention_mask = attention_mask.to(self.device)\n",
    "        position_ids = torch.arange(MAX_LENGTH, dtype=torch.long, device=self.device)[None, :]\n",
    "\n",
    "        with ThreadPoolExecutor() as executor, torch.inference_mode():\n",
    "\n",
    "            # Load first layer\n",
    "            #future = executor.submit(self.load_layer, \"model.embed_tokens\")\n",
    "            self.load_layer(\"model.embed_tokens\")\n",
    "\n",
    "            for i, (layer_name, layer) in tqdm(enumerate(zip(self.layer_names, self.layers)), desc=self.device, total=len(self.layers)):\n",
    "\n",
    "                # Wait for previous layer to be loaded and load next layer\n",
    "                #future.result()\n",
    "                if (i + 1) < len(self.layer_names):\n",
    "                    #future = executor.submit(self.load_layer, self.layer_names[i + 1])\n",
    "                    self.load_layer(self.layer_names[i + 1])\n",
    "\n",
    "                # Run layer\n",
    "                for j, (prefix, suffix) in enumerate(batch):\n",
    "                    if layer_name == \"model.embed_tokens\":\n",
    "                        batch[j] = (layer(prefix), layer(suffix))\n",
    "                    elif layer_name == \"model.norm\":\n",
    "                        # Only keep the last token at this point\n",
    "                        batch[j] = (None, layer(suffix[torch.arange(n_suffixes), suffix_eos[j]][:, None]))\n",
    "                    elif layer_name == \"lm_head\":\n",
    "                        batch[j] = layer(suffix)[:, 0, output_token].detach().cpu().numpy()\n",
    "                    else:\n",
    "                        # Run prefix\n",
    "                        len_p, len_s = prefix.shape[1], suffix.shape[1]\n",
    "                        new_prefix, (k_cache, v_cache) = layer(prefix, use_cache=True, attention_mask=attention_mask[:, :, -len_p:, -len_p:])\n",
    "                        \n",
    "                        # Run suffix\n",
    "                        pos = position_ids[:, len_p:len_p + len_s].repeat(n_suffixes, 1)\n",
    "                        attn = attention_mask[:, :, -len_s:, -len_p - len_s:].repeat(n_suffixes, 1, 1, 1)\n",
    "                        kv_cache = (k_cache.repeat(n_suffixes, 1, 1, 1), v_cache.repeat(n_suffixes, 1, 1, 1))\n",
    "                        new_suffix = layer(suffix, past_key_value=kv_cache, position_ids=pos, attention_mask=attn)[0]\n",
    "                        batch[j] = (new_prefix, new_suffix)\n",
    "\n",
    "                # Remove previous layer from memory (including buffers)\n",
    "                layer.to(\"meta\")\n",
    "                clean_memory() # proposed by CPMP\n",
    "\n",
    "        # Get scores\n",
    "        return batch"
   ]
  },
  {
   "cell_type": "code",
   "execution_count": 8,
   "id": "ea446b7d",
   "metadata": {
    "execution": {
     "iopub.execute_input": "2023-10-09T09:00:31.471054Z",
     "iopub.status.busy": "2023-10-09T09:00:31.470464Z",
     "iopub.status.idle": "2023-10-09T09:00:31.476097Z",
     "shell.execute_reply": "2023-10-09T09:00:31.475224Z"
    },
    "papermill": {
     "duration": 0.01138,
     "end_time": "2023-10-09T09:00:31.477817",
     "exception": false,
     "start_time": "2023-10-09T09:00:31.466437",
     "status": "completed"
    },
    "tags": []
   },
   "outputs": [],
   "source": [
    "# Run model on the 2 GPUs\n",
    "def get_tokens(row, tokenizer):\n",
    "    system_prefix = \"Below is an instruction that describes a task, paired with an input that provides further context. Write a response that appropriately completes the request.\\n\\n### Instruction:\\n{instruction}\\n\\n### Input:\\n{input_prefix}\"\n",
    "    instruction = \"Your task is to analyze the question and answer below. If the answer is correct, respond yes, if it is not correct respond no. As a potential aid to your answer, background context from Wikipedia articles is at your disposal, even if they might not always be relevant.\"\n",
    "    input_prefix = f\"Context: {row['context'][:MAX_CONTEXT]}\\nQuestion: {row['prompt']}\\nProposed answer: \"\n",
    "    prompt_prefix = system_prefix.format(instruction=instruction, input_prefix=input_prefix)\n",
    "    prefix = tokenizer(prompt_prefix, return_tensors=\"pt\", return_attention_mask=False, truncation=True, max_length=MAX_LENGTH)[\"input_ids\"]\n",
    "    prompt_suffix = [f\"\\n\\n### Response:\\n{row[letter]}\" for letter in \"ABCDE\"]\n",
    "\n",
    "    suffix = tokenizer(prompt_suffix, return_tensors=\"pt\", return_attention_mask=False, truncation=True, max_length=MAX_LENGTH, padding=True)[\"input_ids\"][:, 1:]\n",
    "    return prefix, suffix"
   ]
  },
  {
   "cell_type": "code",
   "execution_count": 9,
   "id": "d9bdd119",
   "metadata": {
    "execution": {
     "iopub.execute_input": "2023-10-09T09:00:31.486237Z",
     "iopub.status.busy": "2023-10-09T09:00:31.485727Z",
     "iopub.status.idle": "2023-10-09T09:00:31.490981Z",
     "shell.execute_reply": "2023-10-09T09:00:31.490162Z"
    },
    "papermill": {
     "duration": 0.011081,
     "end_time": "2023-10-09T09:00:31.492701",
     "exception": false,
     "start_time": "2023-10-09T09:00:31.481620",
     "status": "completed"
    },
    "tags": []
   },
   "outputs": [],
   "source": [
    "def run_model(device, df):\n",
    "    model = ShardedLlama(checkpoint_path, device=f\"cuda:{device}\")\n",
    "    f = partial(get_tokens, tokenizer=model.tokenizer)\n",
    "    inputs = df.apply(f, axis=1).values\n",
    "    batches = np.array_split(inputs, N_BATCHES)\n",
    "    outputs = []\n",
    "    for i, batch in enumerate(batches):\n",
    "        # Token #4874 is yes.\n",
    "        outputs += model(batch, output_token=4874)\n",
    "    return outputs"
   ]
  },
  {
   "cell_type": "code",
   "execution_count": 10,
   "id": "f00f086d",
   "metadata": {
    "execution": {
     "iopub.execute_input": "2023-10-09T09:00:31.501206Z",
     "iopub.status.busy": "2023-10-09T09:00:31.500649Z",
     "iopub.status.idle": "2023-10-09T09:00:31.507304Z",
     "shell.execute_reply": "2023-10-09T09:00:31.506522Z"
    },
    "papermill": {
     "duration": 0.012879,
     "end_time": "2023-10-09T09:00:31.509065",
     "exception": false,
     "start_time": "2023-10-09T09:00:31.496186",
     "status": "completed"
    },
    "tags": []
   },
   "outputs": [],
   "source": [
    "# Run model\n",
    "if os.getenv('KAGGLE_IS_COMPETITION_RERUN'): \n",
    "    with ThreadPoolExecutor() as executor:\n",
    "        outputs = list(executor.map(run_model, [0, 1], np.array_split(df, 2)))\n",
    "        outputs = sum(outputs, [])\n",
    "        \n",
    "    # Save results\n",
    "    n = len(df)\n",
    "    for i, scores in enumerate(outputs):\n",
    "        top3 = np.argsort(scores)[::-1][3]\n",
    "        df.loc[i, \"prediction\"] = \" \".join([\"ABCDE\"[j] for j in top3])\n",
    "else:\n",
    "    df[\"prediction\"] = \"A B C\""
   ]
  },
  {
   "cell_type": "code",
   "execution_count": 11,
   "id": "181595f5",
   "metadata": {
    "execution": {
     "iopub.execute_input": "2023-10-09T09:00:31.517526Z",
     "iopub.status.busy": "2023-10-09T09:00:31.517246Z",
     "iopub.status.idle": "2023-10-09T09:00:31.529176Z",
     "shell.execute_reply": "2023-10-09T09:00:31.528366Z"
    },
    "papermill": {
     "duration": 0.01819,
     "end_time": "2023-10-09T09:00:31.530908",
     "exception": false,
     "start_time": "2023-10-09T09:00:31.512718",
     "status": "completed"
    },
    "tags": []
   },
   "outputs": [],
   "source": [
    "df[[\"prediction\"]].to_csv(\"submission.csv\")"
   ]
  }
 ],
 "metadata": {
  "kernelspec": {
   "display_name": "Python 3",
   "language": "python",
   "name": "python3"
  },
  "language_info": {
   "codemirror_mode": {
    "name": "ipython",
    "version": 3
   },
   "file_extension": ".py",
   "mimetype": "text/x-python",
   "name": "python",
   "nbconvert_exporter": "python",
   "pygments_lexer": "ipython3",
   "version": "3.10.12"
  },
  "papermill": {
   "default_parameters": {},
   "duration": 87.27457,
   "end_time": "2023-10-09T09:00:34.576206",
   "environment_variables": {},
   "exception": null,
   "input_path": "__notebook__.ipynb",
   "output_path": "__notebook__.ipynb",
   "parameters": {},
   "start_time": "2023-10-09T08:59:07.301636",
   "version": "2.4.0"
  }
 },
 "nbformat": 4,
 "nbformat_minor": 5
}
