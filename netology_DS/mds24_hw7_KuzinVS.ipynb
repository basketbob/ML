{
  "nbformat": 4,
  "nbformat_minor": 0,
  "metadata": {
    "colab": {
      "provenance": [],
      "authorship_tag": "ABX9TyNaGyvXCzWcCmiUKx/vQZHM",
      "include_colab_link": true
    },
    "kernelspec": {
      "name": "python3",
      "display_name": "Python 3"
    },
    "language_info": {
      "name": "python"
    }
  },
  "cells": [
    {
      "cell_type": "markdown",
      "metadata": {
        "id": "view-in-github",
        "colab_type": "text"
      },
      "source": [
        "<a href=\"https://colab.research.google.com/github/basketbob/ML/blob/main/netology_DS/mds24_hw7_KuzinVS.ipynb\" target=\"_parent\"><img src=\"https://colab.research.google.com/assets/colab-badge.svg\" alt=\"Open In Colab\"/></a>"
      ]
    },
    {
      "cell_type": "code",
      "execution_count": null,
      "metadata": {
        "id": "yXxQB19VNFYc"
      },
      "outputs": [],
      "source": [
        "import numpy as np\n",
        "from scipy.optimize import differential_evolution\n",
        "import matplotlib.pyplot as plt\n",
        "\n",
        "%matplotlib inline"
      ]
    },
    {
      "cell_type": "code",
      "source": [
        "def ackley(x):\n",
        "    arg1 = -0.2 * np.sqrt(0.5 * (x[0] ** 2 + x[1] ** 2))\n",
        "    arg2 = 0.5 * (np.cos(2. * np.pi * x[0]) + np.cos(2. * np.pi * x[1]))\n",
        "    return -20. * np.exp(arg1) - np.exp(arg2) + 20. + np.e\n",
        "\n",
        "bounds = [(-10, 10), (-10, 10)]\n",
        "\n",
        "result = differential_evolution(ackley, bounds, seed=42)\n",
        "result"
      ],
      "metadata": {
        "colab": {
          "base_uri": "https://localhost:8080/"
        },
        "id": "NcJGRspFNQUL",
        "outputId": "7abfa7f1-efad-4087-a9f8-30041d275964"
      },
      "execution_count": null,
      "outputs": [
        {
          "output_type": "execute_result",
          "data": {
            "text/plain": [
              "     fun: 4.440892098500626e-16\n",
              " message: 'Optimization terminated successfully.'\n",
              "    nfev: 2793\n",
              "     nit: 90\n",
              " success: True\n",
              "       x: array([0., 0.])"
            ]
          },
          "metadata": {},
          "execution_count": 3
        }
      ]
    },
    {
      "cell_type": "markdown",
      "source": [
        "При фиксированном seed=42 поэкспериментируйте с параметрами алгоритма differential_evolution: strategy, popsize, mutation."
      ],
      "metadata": {
        "id": "xl-ns-2eNffW"
      }
    },
    {
      "cell_type": "code",
      "source": [
        "# Испробовал все параметры strategy, самый эффективный best1bin\n",
        "# popsize - 0, 1, 2 имеют одинаковое низкое значение, дальше чем больше число, тем больше результаты.\n",
        "result = differential_evolution(ackley, bounds, seed=42, strategy='best1bin', popsize=1, mutation=0.0001)\n",
        "result"
      ],
      "metadata": {
        "colab": {
          "base_uri": "https://localhost:8080/"
        },
        "id": "6oc0dgHYN0Oz",
        "outputId": "c148d21e-0c00-4b42-cadf-157401534ad7"
      },
      "execution_count": null,
      "outputs": [
        {
          "output_type": "execute_result",
          "data": {
            "text/plain": [
              "     fun: 3.339370113764062e-09\n",
              "     jac: array([2.394696  , 2.18475478])\n",
              " message: 'Optimization terminated successfully.'\n",
              "    nfev: 169\n",
              "     nit: 1\n",
              " success: True\n",
              "       x: array([-4.16298692e-10, -1.10481603e-09])"
            ]
          },
          "metadata": {},
          "execution_count": 13
        }
      ]
    },
    {
      "cell_type": "markdown",
      "source": [
        "Постройте графики количества итераций (nit) оптимизации функции ackley от значения параметра."
      ],
      "metadata": {
        "id": "_WIX_241Nh-S"
      }
    },
    {
      "cell_type": "code",
      "source": [
        "nits = []\n",
        "mutations = np.arange(0, 2, 0.1)\n",
        "\n",
        "for mut in mutations:\n",
        "  try:\n",
        "    res = differential_evolution(ackley, bounds, seed=42, strategy='best1bin', popsize=1, mutation=mut)\n",
        "    nits.append(res['nit'])\n",
        "  except ValueError:\n",
        "    mutations.remove(mut)\n",
        "\n",
        "print(nits)\n",
        "\n",
        "plt.figure(figsize=(12, 8))\n",
        "plt.plot(mutations, nits)\n",
        "plt.show()"
      ],
      "metadata": {
        "colab": {
          "base_uri": "https://localhost:8080/",
          "height": 500
        },
        "id": "qgqapoZrNkUo",
        "outputId": "74c1f657-7277-4ff2-8f25-7643efcf037b"
      },
      "execution_count": null,
      "outputs": [
        {
          "output_type": "stream",
          "name": "stdout",
          "text": [
            "[1, 4, 5, 5, 10, 10, 10, 10, 41, 34, 10, 13, 18, 31, 46, 47, 47, 22, 27, 55]\n"
          ]
        },
        {
          "output_type": "display_data",
          "data": {
            "text/plain": [
              "<Figure size 864x576 with 1 Axes>"
            ],
            "image/png": "[encoded data removed]"
          },
          "metadata": {
            "needs_background": "light"
          }
        }
      ]
    },
    {
      "cell_type": "markdown",
      "source": [
        "Дополнительное задание\n",
        "Поэкспериментируйте с параметрами и оптимизацией через minimize:"
      ],
      "metadata": {
        "id": "yVHAjibwNpvQ"
      }
    },
    {
      "cell_type": "code",
      "source": [
        "from scipy.optimize import minimize\n",
        "\n",
        "x0 = [0,0]\n",
        "\n",
        "result_m = minimize(ackley, x0,  method='COBYLA') #COBYLA - самый эффективный метод\n",
        "result_m"
      ],
      "metadata": {
        "colab": {
          "base_uri": "https://localhost:8080/"
        },
        "id": "UM2auqVtNrR6",
        "outputId": "4c879ef2-3713-4938-a53d-8d9655677dbe"
      },
      "execution_count": null,
      "outputs": [
        {
          "output_type": "execute_result",
          "data": {
            "text/plain": [
              "     fun: 0.00028310899612238316\n",
              "   maxcv: 0.0\n",
              " message: 'Optimization terminated successfully.'\n",
              "    nfev: 25\n",
              "  status: 1\n",
              " success: True\n",
              "       x: array([-8.76258342e-06,  9.96153459e-05])"
            ]
          },
          "metadata": {},
          "execution_count": 18
        }
      ]
    },
    {
      "cell_type": "code",
      "source": [],
      "metadata": {
        "id": "uKzs-yd00Jx0"
      },
      "execution_count": null,
      "outputs": []
    }
  ]
}