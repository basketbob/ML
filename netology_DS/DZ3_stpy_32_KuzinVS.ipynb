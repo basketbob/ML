{
  "nbformat": 4,
  "nbformat_minor": 0,
  "metadata": {
    "colab": {
      "provenance": [],
      "authorship_tag": "ABX9TyPfunhEJL6BPOvjNbV+ygjh",
      "include_colab_link": true
    },
    "kernelspec": {
      "name": "python3",
      "display_name": "Python 3"
    },
    "language_info": {
      "name": "python"
    }
  },
  "cells": [
    {
      "cell_type": "markdown",
      "metadata": {
        "id": "view-in-github",
        "colab_type": "text"
      },
      "source": [
        "<a href=\"https://colab.research.google.com/github/basketbob/ML/blob/main/netology_DS/DZ3_stpy_32_KuzinVS.ipynb\" target=\"_parent\"><img src=\"https://colab.research.google.com/assets/colab-badge.svg\" alt=\"Open In Colab\"/></a>"
      ]
    },
    {
      "cell_type": "code",
      "execution_count": null,
      "metadata": {
        "colab": {
          "base_uri": "https://localhost:8080/"
        },
        "id": "zKT5Xc0apC4x",
        "outputId": "238ebcb5-6ae8-4a91-bc5d-9ae9c3aea620"
      },
      "outputs": [
        {
          "output_type": "stream",
          "name": "stdout",
          "text": [
            "Выгодна ли игра игроку?\n",
            "Ответ: нет\n",
            "В среднем приобретает игрок за одну игру -0.2 руб.\n"
          ]
        }
      ],
      "source": [
        "import numpy as np\n",
        "\n",
        "rubles = 1000000\n",
        "wins = 0\n",
        "\n",
        "for _ in range(rubles):\n",
        "  score = np.random.randint(0, 1000)\n",
        "\n",
        "  if score == 777:\n",
        "    wins += 200\n",
        "  elif  score == 999:\n",
        "    wins += 100\n",
        "  elif  score == 555:\n",
        "    wins += 50\n",
        "  elif  score == 333:\n",
        "    wins += 15\n",
        "  elif  score == 111:\n",
        "    wins += 10\n",
        "  elif score % 100 == 77:\n",
        "    wins += 5\n",
        "  elif score % 10 == 7:\n",
        "    wins += 3\n",
        "  elif score % 100 == 0:\n",
        "    wins += 2\n",
        "  elif score % 10 == 0:\n",
        "    wins += 1\n",
        "\n",
        "p_monte_carlo = wins / rubles         # Вероятность из моделирования\n",
        "avg_win = round(p_monte_carlo - 1, 2) # Среднее приобретение за игру\n",
        "\n",
        "print('Выгодна ли игра игроку?')\n",
        "print('Ответ:', 'да' if wins > rubles else 'нет')\n",
        "print(f'В среднем приобретает игрок за одну игру {avg_win} руб.')"
      ]
    }
  ]
}