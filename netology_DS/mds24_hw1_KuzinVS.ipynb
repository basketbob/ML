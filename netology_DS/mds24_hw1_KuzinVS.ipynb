{
  "nbformat": 4,
  "nbformat_minor": 0,
  "metadata": {
    "colab": {
      "provenance": [],
      "authorship_tag": "ABX9TyP78qcZlKns0kCPAqwX0FeE",
      "include_colab_link": true
    },
    "kernelspec": {
      "name": "python3",
      "display_name": "Python 3"
    },
    "language_info": {
      "name": "python"
    }
  },
  "cells": [
    {
      "cell_type": "markdown",
      "metadata": {
        "id": "view-in-github",
        "colab_type": "text"
      },
      "source": [
        "<a href=\"https://colab.research.google.com/github/basketbob/ML/blob/main/netology_DS/mds24_hw1_KuzinVS.ipynb\" target=\"_parent\"><img src=\"https://colab.research.google.com/assets/colab-badge.svg\" alt=\"Open In Colab\"/></a>"
      ]
    },
    {
      "cell_type": "code",
      "source": [
        "import numpy as np"
      ],
      "metadata": {
        "id": "sJZtm8hS20LK"
      },
      "execution_count": null,
      "outputs": []
    },
    {
      "cell_type": "markdown",
      "source": [
        "# Уровень 0:\n",
        "Представим фильмы в виде бинарных векторов (numpy array) используя следующие признаки:\n",
        "\n",
        "[Комедия, Боевик, Исторический, Бред Питт, Бенедикт Камбербэтч, Квентин Тарантино]"
      ],
      "metadata": {
        "id": "1fBgTc4z2icy"
      }
    },
    {
      "cell_type": "code",
      "execution_count": null,
      "metadata": {
        "id": "3-7P7qkB2UyD"
      },
      "outputs": [],
      "source": [
        "film_1 = np.array([0,0,0,0,1,0])      # Игра в имитацию\n",
        "film_2 = np.array([0,1,0,1,0,0])      # Ярость\n",
        "film_3 = np.array([0,0,1,1,1,0])      # 12 лет рабства\n",
        "film_4 = np.array([1,0,0,1,0,1])      # Однажды в Голливуде"
      ]
    },
    {
      "cell_type": "markdown",
      "source": [
        "## Задание 1\n",
        "Найти угол между векторами-фильмами \"Ярость\" и \"12 лет рабства\". Результатом будет являться косинусная мера, которую можно использовать для определения похожести векторов."
      ],
      "metadata": {
        "id": "oZLz4wTr21h7"
      }
    },
    {
      "cell_type": "code",
      "source": [
        "corner = np.arccos(np.dot(film_2, film_3) / (np.linalg.norm(film_2) * np.linalg.norm(film_3)))\n",
        "print(corner)"
      ],
      "metadata": {
        "colab": {
          "base_uri": "https://localhost:8080/"
        },
        "id": "1PMvqP-X-S5N",
        "outputId": "ec8b1b39-107a-41c6-e75b-98996bba6603"
      },
      "execution_count": null,
      "outputs": [
        {
          "output_type": "stream",
          "name": "stdout",
          "text": [
            "1.1502619915109316\n"
          ]
        }
      ]
    },
    {
      "cell_type": "markdown",
      "source": [
        "# Уровень 1:\n",
        "## Задание 2\n",
        "Вычислить с помощью Python значение первой производной для функции 3х(х**2 + х)**2 в точке х = 1"
      ],
      "metadata": {
        "id": "MgIqobzW3K0C"
      }
    },
    {
      "cell_type": "code",
      "source": [
        "import sympy as sym\n",
        "\n",
        "x = sym.Symbol('x')\n",
        "3 * x *  (x**2 + x)**2\n",
        "\n",
        "res = sym.diff(3 * x *  (x**2 + x)**2, x)\n",
        "res.subs(x, 1)"
      ],
      "metadata": {
        "colab": {
          "base_uri": "https://localhost:8080/",
          "height": 37
        },
        "id": "8-gN8ZTQ3ZnO",
        "outputId": "c5365837-1190-47d3-f65d-46eb636ca2b7"
      },
      "execution_count": null,
      "outputs": [
        {
          "output_type": "execute_result",
          "data": {
            "text/plain": [
              "48"
            ],
            "text/latex": "$\\displaystyle 48$"
          },
          "metadata": {},
          "execution_count": 2
        }
      ]
    },
    {
      "cell_type": "markdown",
      "source": [
        "# Задание 3\n",
        "Объединить векторы фильмов в матрицу, где каждый вектор является строкой матрицы. Умножьте вектор [1,2,3,4] на полученную матрицу"
      ],
      "metadata": {
        "id": "JajOimyj3l6s"
      }
    },
    {
      "cell_type": "code",
      "source": [
        "matrix = np.array([film_1, film_2, film_3, film_4])\n",
        "matrix"
      ],
      "metadata": {
        "colab": {
          "base_uri": "https://localhost:8080/"
        },
        "id": "hlHp-MAS3q_S",
        "outputId": "dcfec1d9-d4e6-4e2b-ee5a-b5a2bab9a0f0"
      },
      "execution_count": null,
      "outputs": [
        {
          "output_type": "execute_result",
          "data": {
            "text/plain": [
              "array([[0, 0, 0, 0, 1, 0],\n",
              "       [0, 1, 0, 1, 0, 0],\n",
              "       [0, 0, 1, 1, 1, 0],\n",
              "       [1, 0, 0, 1, 0, 1]])"
            ]
          },
          "metadata": {},
          "execution_count": 4
        }
      ]
    },
    {
      "cell_type": "code",
      "source": [
        "np.array([1,2,3,4])@matrix"
      ],
      "metadata": {
        "colab": {
          "base_uri": "https://localhost:8080/"
        },
        "id": "jXIrLE_HBgVV",
        "outputId": "8055830f-b6ee-4be2-ed8e-9e45d9250f6e"
      },
      "execution_count": null,
      "outputs": [
        {
          "output_type": "execute_result",
          "data": {
            "text/plain": [
              "array([4, 2, 3, 9, 4, 4])"
            ]
          },
          "metadata": {},
          "execution_count": 7
        }
      ]
    }
  ]
}