{
  "nbformat": 4,
  "nbformat_minor": 0,
  "metadata": {
    "colab": {
      "provenance": [],
      "authorship_tag": "ABX9TyO0v2IyqLwwGzJugvXwFw2T",
      "include_colab_link": true
    },
    "kernelspec": {
      "name": "python3",
      "display_name": "Python 3"
    },
    "language_info": {
      "name": "python"
    }
  },
  "cells": [
    {
      "cell_type": "markdown",
      "metadata": {
        "id": "view-in-github",
        "colab_type": "text"
      },
      "source": [
        "<a href=\"https://colab.research.google.com/github/basketbob/ML/blob/main/netology_DS/mds24_HWX_KuzinVS.ipynb\" target=\"_parent\"><img src=\"https://colab.research.google.com/assets/colab-badge.svg\" alt=\"Open In Colab\"/></a>"
      ]
    },
    {
      "cell_type": "code",
      "execution_count": null,
      "metadata": {
        "id": "iXw3xvv-DNkC"
      },
      "outputs": [],
      "source": [
        "import matplotlib.pyplot as plt\n",
        "import numpy as np\n",
        "import sympy as sym\n",
        "\n",
        "from scipy.optimize import differential_evolution\n",
        "from scipy.optimize import minimize\n",
        "from scipy.stats import norm\n",
        "%matplotlib inline"
      ]
    },
    {
      "cell_type": "markdown",
      "source": [
        "###Задание 1\n",
        "\n",
        "Вычислите производную функции:"
      ],
      "metadata": {
        "id": "ijxWCpr_Dc-i"
      }
    },
    {
      "cell_type": "code",
      "source": [
        "def funct(x):\n",
        "  return sym.tan(sym.sin(x) + sym.cos(2 * x + 3))**2\n",
        "\n",
        "x = sym.Symbol('x')\n",
        "y = sym.diff(funct(x)).evalf(subs={'x':1})\n",
        "print(y)"
      ],
      "metadata": {
        "colab": {
          "base_uri": "https://localhost:8080/"
        },
        "id": "BcDeqT7GDjER",
        "outputId": "7d4778b7-e048-46af-c4f1-64d9f38ce7be"
      },
      "execution_count": null,
      "outputs": [
        {
          "output_type": "stream",
          "name": "stdout",
          "text": [
            "55.3859176353379\n"
          ]
        }
      ]
    },
    {
      "cell_type": "markdown",
      "source": [
        "###Задание 2\n",
        "Дан объект в 2D пространстве.\n",
        "\n",
        "При помощи матричных операций выполните:\n",
        "\n",
        "Масштабирование и смещение объекта (применить 2 матрицы трансформаций). Масштабирование на (0.5, 1.2) и смещение на (200, 300)"
      ],
      "metadata": {
        "id": "O9mFSH2wEgPL"
      }
    },
    {
      "cell_type": "code",
      "source": [
        "A = [\n",
        "[-100, -100, 1],\n",
        "[0, 100, 1],\n",
        "[100, -100, 1],\n",
        "[-100, -100, 1]\n",
        "]\n",
        "\n",
        "A = np.array(A)\n",
        "\n",
        "x = A[:,0]\n",
        "y = A[:,1]\n",
        "plt.plot(x, y)\n",
        "plt.ylim([-200, 200])\n",
        "plt.xlim([-200, 200])"
      ],
      "metadata": {
        "colab": {
          "base_uri": "https://localhost:8080/",
          "height": 286
        },
        "id": "spTVwNU4E_aj",
        "outputId": "d4bfe20c-b622-4fb3-c5d0-ad2bb6ccaadd"
      },
      "execution_count": null,
      "outputs": [
        {
          "output_type": "execute_result",
          "data": {
            "text/plain": [
              "(-200.0, 200.0)"
            ]
          },
          "metadata": {},
          "execution_count": 39
        },
        {
          "output_type": "display_data",
          "data": {
            "text/plain": [
              "<Figure size 432x288 with 1 Axes>"
            ],
            "image/png": "[encoded data removed]"
          },
          "metadata": {
            "needs_background": "light"
          }
        }
      ]
    },
    {
      "cell_type": "code",
      "source": [
        "x2 = np.dot(0.5, x)\n",
        "y2 = np.dot(1.2, y)\n",
        "\n",
        "x2 += 200\n",
        "y2 += 300\n",
        "\n",
        "plt.plot(x2, y2)\n",
        "plt.ylim([0, 500])\n",
        "plt.xlim([0, 500])"
      ],
      "metadata": {
        "colab": {
          "base_uri": "https://localhost:8080/",
          "height": 286
        },
        "id": "gVigAwGZFHuY",
        "outputId": "d566dc74-f979-4bf6-abcb-8213f51472a9"
      },
      "execution_count": null,
      "outputs": [
        {
          "output_type": "execute_result",
          "data": {
            "text/plain": [
              "(0.0, 500.0)"
            ]
          },
          "metadata": {},
          "execution_count": 40
        },
        {
          "output_type": "display_data",
          "data": {
            "text/plain": [
              "<Figure size 432x288 with 1 Axes>"
            ],
            "image/png": "[encoded data removed]"
          },
          "metadata": {
            "needs_background": "light"
          }
        }
      ]
    },
    {
      "cell_type": "markdown",
      "source": [
        "###Задание 3\n",
        "Найдите собственные значения и собственные вектора матрицы:"
      ],
      "metadata": {
        "id": "Q866Q4sFLy4Z"
      }
    },
    {
      "cell_type": "code",
      "source": [
        "from numpy import linalg as LA\n",
        "\n",
        "m = np.array([[1, 4], [1, 1]])\n",
        "print('m = ', m)\n",
        "print()\n",
        "\n",
        "w,v = LA.eig(m)\n",
        "print('w = ', w)\n",
        "print()\n",
        "print('v = ', v)"
      ],
      "metadata": {
        "colab": {
          "base_uri": "https://localhost:8080/"
        },
        "id": "TXeXkEfTJkf6",
        "outputId": "c8345056-232e-4f99-8f10-4b67cc1eb6c0"
      },
      "execution_count": null,
      "outputs": [
        {
          "output_type": "stream",
          "name": "stdout",
          "text": [
            "m =  [[1 4]\n",
            " [1 1]]\n",
            "\n",
            "w =  [ 3. -1.]\n",
            "\n",
            "v =  [[ 0.89442719 -0.89442719]\n",
            " [ 0.4472136   0.4472136 ]]\n"
          ]
        }
      ]
    },
    {
      "cell_type": "markdown",
      "source": [
        "###Задание 4\n",
        "Дана функция с неизвестными параметрами a и b, вам также известны значения функции fx в точках x.\n",
        "\n",
        "Найдите оптимальные параметры a, b, минимизирующие абсолютную ошибку error."
      ],
      "metadata": {
        "id": "axTUEyFVNluW"
      }
    },
    {
      "cell_type": "code",
      "source": [
        "def f(x, a, b):\n",
        "  return np.e**a * np.sin(b*x) + x\n",
        "\n",
        "x = np.array([0., 0.26315789, 0.52631579, 0.78947368, 1.05263158,\n",
        "              1.31578947, 1.57894737, 1.84210526, 2.10526316, 2.36842105,\n",
        "              2.63157895, 2.89473684, 3.15789474, 3.42105263, 3.68421053,\n",
        "              3.94736842, 4.21052632, 4.47368421, 4.73684211, 5.])\n",
        "\n",
        "fx = np.array([0., -12.01819092, -18.90968634, -17.68786571,\n",
        "                -8.7529108 ,   4.27524517,  16.06801336,  21.81250213,\n",
        "                19.22059845,   9.48411207,  -3.22273056, -13.48576488,\n",
        "               -16.91096359, -11.95866834,  -0.58630088,  12.56873816,\n",
        "                22.12489421,  24.20292139,  18.04522521,   6.33211092])\n",
        "\n",
        "plt.plot(x, fx)\n",
        "plt.show()"
      ],
      "metadata": {
        "colab": {
          "base_uri": "https://localhost:8080/",
          "height": 265
        },
        "id": "UzQzcIBONxWs",
        "outputId": "8c991b1b-e2fc-4d20-c871-d7fa714213a1"
      },
      "execution_count": null,
      "outputs": [
        {
          "output_type": "display_data",
          "data": {
            "text/plain": [
              "<Figure size 432x288 with 1 Axes>"
            ],
            "image/png": "[encoded data removed]"
          },
          "metadata": {
            "needs_background": "light"
          }
        }
      ]
    },
    {
      "cell_type": "code",
      "source": [
        "def error(params):\n",
        "  return np.sum(np.abs(fx - f(x, params[0], params[1])))\n",
        "\n",
        "x0 = [0,0]\n",
        "\n",
        "result_m = minimize(error, x0,  method='COBYLA')\n",
        "print(result_m)\n",
        "\n",
        "plt.plot(x, fx, color='blue')\n",
        "plt.plot(x, f(x, result_m.x[0], result_m.x[1]), color='red')\n",
        "plt.show()"
      ],
      "metadata": {
        "colab": {
          "base_uri": "https://localhost:8080/",
          "height": 387
        },
        "id": "RPCeHcQQOFfH",
        "outputId": "2b97286a-1ba9-4374-c9df-98e1d419ad9e"
      },
      "execution_count": null,
      "outputs": [
        {
          "output_type": "stream",
          "name": "stdout",
          "text": [
            "     fun: 0.043631576926070004\n",
            "   maxcv: 0.0\n",
            " message: 'Optimization terminated successfully.'\n",
            "    nfev: 152\n",
            "  status: 1\n",
            " success: True\n",
            "       x: array([ 3.0000271 , -2.49993557])\n"
          ]
        },
        {
          "output_type": "display_data",
          "data": {
            "text/plain": [
              "<Figure size 432x288 with 1 Axes>"
            ],
            "image/png": "[encoded data removed]"
          },
          "metadata": {
            "needs_background": "light"
          }
        }
      ]
    },
    {
      "cell_type": "markdown",
      "source": [
        "###Задание 5\n",
        "Дана матрица рейтингов фильмов (строки - пользователи (10 человек), столбцы - фильмы (15 фильмов))\n",
        "\n",
        "Необходимо найти наиболее похожего пользователя по косинусной метрике для каждого из пользователей (ответ: 10 пар вида (x, y), где y - наиболее похожий пользователь на пользователя x)."
      ],
      "metadata": {
        "id": "ibe5rz3faGlG"
      }
    },
    {
      "cell_type": "code",
      "source": [
        "from sklearn.metrics import pairwise_distances\n",
        "\n",
        "raitings = np.array([[ 4,  4,  9,  4,  1,  6, 10,  7,  9,  6,  9,  2,  8,  6,  6],\n",
        "                     [ 9,  2,  5, 10,  7,  8, 10,  5,  6,  2,  1,  6,  8,  9,  7],\n",
        "                     [ 1,  6,  8,  8,  4,  9,  3,  8, 10,  5,  2,  6,  8,  1,  6],\n",
        "                     [ 6,  1,  9,  7,  7,  9,  2,  3,  5,  1,  6,  6,  3,  2,  7],\n",
        "                     [ 3,  7,  3,  5,  7,  9,  9,  6,  2,  9,  1,  2,  8, 10,  6],\n",
        "                     [ 8,  3,  7,  3,  8,  6,  1,  8,  8,  6,  1,  9,  4, 10,  1],\n",
        "                     [ 9,  8,  4,  8,  8, 10,  6,  1,  1,  2,  9,  5,  2,  7,  2],\n",
        "                     [ 4,  1,  6,  4,  3, 10,  4,  4,  2,  8,  7,  9,  3,  8,  3],\n",
        "                     [ 2,  7,  7,  6, 10,  6,  8,  9,  8,  6, 10,  1,  7, 10,  4],\n",
        "                     [ 5, 10,  8,  8,  9,  7,  2,  9,  9, 10,  8,  8,  8,  6, 10]])\n",
        "\n",
        "res = pairwise_distances(raitings, metric='cosine')\n",
        "res"
      ],
      "metadata": {
        "colab": {
          "base_uri": "https://localhost:8080/"
        },
        "id": "L9Q0dnFUasjF",
        "outputId": "e7e0ba8a-de4e-4e5e-d1c9-892bbec61add"
      },
      "execution_count": null,
      "outputs": [
        {
          "output_type": "execute_result",
          "data": {
            "text/plain": [
              "array([[0.        , 0.17397081, 0.15078471, 0.21659884, 0.18082368,\n",
              "        0.25881452, 0.27264172, 0.19032478, 0.08934018, 0.13989224],\n",
              "       [0.17397081, 0.        , 0.18765675, 0.15364663, 0.12861948,\n",
              "        0.17286893, 0.17370316, 0.19973997, 0.17473692, 0.18031873],\n",
              "       [0.15078471, 0.18765675, 0.        , 0.15330626, 0.21605701,\n",
              "        0.20902015, 0.32383777, 0.23710448, 0.17887923, 0.08126949],\n",
              "       [0.21659884, 0.15364663, 0.15330626, 0.        , 0.30846591,\n",
              "        0.21334208, 0.16725789, 0.17065333, 0.2229334 , 0.1411313 ],\n",
              "       [0.18082368, 0.12861948, 0.21605701, 0.30846591, 0.        ,\n",
              "        0.2235566 , 0.21799532, 0.18763131, 0.12051523, 0.15425211],\n",
              "       [0.25881452, 0.17286893, 0.20902015, 0.21334208, 0.2235566 ,\n",
              "        0.        , 0.25988199, 0.15548315, 0.19377124, 0.14485092],\n",
              "       [0.27264172, 0.17370316, 0.32383777, 0.16725789, 0.21799532,\n",
              "        0.25988199, 0.        , 0.17330826, 0.18869956, 0.20845282],\n",
              "       [0.19032478, 0.19973997, 0.23710448, 0.17065333, 0.18763131,\n",
              "        0.15548315, 0.17330826, 0.        , 0.2018724 , 0.16317771],\n",
              "       [0.08934018, 0.17473692, 0.17887923, 0.2229334 , 0.12051523,\n",
              "        0.19377124, 0.18869956, 0.2018724 , 0.        , 0.09906203],\n",
              "       [0.13989224, 0.18031873, 0.08126949, 0.1411313 , 0.15425211,\n",
              "        0.14485092, 0.20845282, 0.16317771, 0.09906203, 0.        ]])"
            ]
          },
          "metadata": {},
          "execution_count": 4
        }
      ]
    },
    {
      "cell_type": "code",
      "source": [
        "x_num = 1\n",
        "for row in res:\n",
        "  i = 1\n",
        "  min = 1\n",
        "  for val in row:\n",
        "    if val > 0:\n",
        "      if min > val:\n",
        "        min = val\n",
        "        y_num = i\n",
        "\n",
        "    i += 1\n",
        "\n",
        "  print(x_num, 'похож на ', y_num)\n",
        "\n",
        "  x_num += 1"
      ],
      "metadata": {
        "colab": {
          "base_uri": "https://localhost:8080/"
        },
        "id": "rTWXB6yVAdy3",
        "outputId": "04999901-805d-4645-8553-0161b798689e"
      },
      "execution_count": null,
      "outputs": [
        {
          "output_type": "stream",
          "name": "stdout",
          "text": [
            "1 похож на  9\n",
            "2 похож на  5\n",
            "3 похож на  10\n",
            "4 похож на  10\n",
            "5 похож на  9\n",
            "6 похож на  10\n",
            "7 похож на  4\n",
            "8 похож на  6\n",
            "9 похож на  1\n",
            "10 похож на  3\n"
          ]
        }
      ]
    }
  ]
}