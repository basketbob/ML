{
  "nbformat": 4,
  "nbformat_minor": 0,
  "metadata": {
    "colab": {
      "provenance": [],
      "authorship_tag": "ABX9TyPgYlXvknOi/7bsijcuwY4R",
      "include_colab_link": true
    },
    "kernelspec": {
      "name": "python3",
      "display_name": "Python 3"
    },
    "language_info": {
      "name": "python"
    }
  },
  "cells": [
    {
      "cell_type": "markdown",
      "metadata": {
        "id": "view-in-github",
        "colab_type": "text"
      },
      "source": [
        "<a href=\"https://colab.research.google.com/github/basketbob/ML/blob/main/netology_DS/PYDA_34_KuzinVS_lesson7.ipynb\" target=\"_parent\"><img src=\"https://colab.research.google.com/assets/colab-badge.svg\" alt=\"Open In Colab\"/></a>"
      ]
    },
    {
      "cell_type": "code",
      "source": [
        "import requests\n",
        "\n",
        "class Rate:\n",
        "    def __init__(self, format='value', diff=False):\n",
        "        self.format = format\n",
        "        self.diff = diff\n",
        "\n",
        "    def exchange_rates(self):\n",
        "        \"\"\"\n",
        "        Возвращает ответ сервиса с информацией о валютах в виде:\n",
        "\n",
        "        {\n",
        "            'AMD': {\n",
        "                'CharCode': 'AMD',\n",
        "                'ID': 'R01060',\n",
        "                'Name': 'Армянских драмов',\n",
        "                'Nominal': 100,\n",
        "                'NumCode': '051',\n",
        "                'Previous': 14.103,\n",
        "                'Value': 14.0879\n",
        "                },\n",
        "            ...\n",
        "        }\n",
        "        \"\"\"\n",
        "        r = requests.get('https://www.cbr-xml-daily.ru/daily_json.js')\n",
        "        return r.json()['Valute']\n",
        "\n",
        "    def make_format(self, currency):\n",
        "        \"\"\"\n",
        "        Возвращает информацию о валюте currency в двух вариантах:\n",
        "        - полная информация о валюте при self.format = 'full':\n",
        "        Rate('full').make_format('EUR')\n",
        "        {\n",
        "            'CharCode': 'EUR',\n",
        "            'ID': 'R01239',\n",
        "            'Name': 'Евро',\n",
        "            'Nominal': 1,\n",
        "            'NumCode': '978',\n",
        "            'Previous': 79.6765,\n",
        "            'Value': 79.4966\n",
        "        }\n",
        "\n",
        "        Rate('value').make_format('EUR')\n",
        "        79.4966\n",
        "        \"\"\"\n",
        "        response = self.exchange_rates()\n",
        "\n",
        "        if currency in response:\n",
        "            if self.format == 'full':\n",
        "                return response[currency]\n",
        "\n",
        "            if self.format == 'value':\n",
        "                if self.diff:\n",
        "                  return abs(response[currency]['Value'] - response[currency]['Previous'])\n",
        "                else:\n",
        "                  return response[currency]['Value']\n",
        "\n",
        "        return 'Error'\n",
        "\n",
        "    def eur(self):\n",
        "        \"\"\"Возвращает курс евро на сегодня в формате self.format\"\"\"\n",
        "        return self.make_format('EUR')\n",
        "\n",
        "    def usd(self):\n",
        "        \"\"\"Возвращает курс доллара на сегодня в формате self.format\"\"\"\n",
        "        return self.make_format('USD')\n",
        "\n",
        "    def AZN(self):\n",
        "        \"\"\"Возвращает курс азербайджанского маната на сегодня в формате self.format\"\"\"\n",
        "        return self.make_format('AZN')"
      ],
      "metadata": {
        "id": "i-KVw3kV7u-o"
      },
      "execution_count": 1,
      "outputs": []
    },
    {
      "cell_type": "code",
      "execution_count": 2,
      "metadata": {
        "id": "-TT5a-eGqGbq"
      },
      "outputs": [],
      "source": [
        "def get_max_currency():\n",
        "  '''\n",
        "  Задание 1.\n",
        "  Возвращает название валюты (поле ‘Name’) с максимальным значением курса\n",
        "  с помощью сервиса https://www.cbr-xml-daily.ru/daily_json.js\n",
        "  '''\n",
        "  rate = Rate()\n",
        "  valutes = rate.exchange_rates()\n",
        "\n",
        "  max_curr_code = max(valutes, key=lambda x: valutes[x]['Value'])\n",
        "  return valutes[max_curr_code]['Name']"
      ]
    },
    {
      "cell_type": "code",
      "source": [
        "'''\n",
        "Задание 2\n",
        "Добавьте в класс Rate параметр diff (со значениями True или False),\n",
        "который в случае значения True в методах курсов валют (eur, usd итд) будет возвращать\n",
        "не курс валюты, а изменение по сравнению в прошлым значением.\n",
        "Считайте, self.diff будет принимать значение True только при возврате значения курса.\n",
        "При отображении всей информации о валюте он не используется.\n",
        "'''\n",
        "rate = Rate(format='value', diff=True)\n",
        "print(rate.eur())"
      ],
      "metadata": {
        "id": "53rfI3UJsKK8",
        "colab": {
          "base_uri": "https://localhost:8080/"
        },
        "outputId": "cbe7f9ca-f038-41d7-a020-269db2f2ce57"
      },
      "execution_count": 3,
      "outputs": [
        {
          "output_type": "stream",
          "name": "stdout",
          "text": [
            "0.5019999999999953\n"
          ]
        }
      ]
    },
    {
      "cell_type": "code",
      "source": [
        "'''\n",
        "Задание 3\n",
        "Напишите класс Designer, который учитывает количество международных премий.\n",
        "Подсказки в коде занятия в разделе “Домашнее задание задача 3”.\n",
        "'''\n",
        "class Employee:\n",
        "    def __init__(self, name, seniority):\n",
        "        self.name = name\n",
        "        self.seniority = seniority\n",
        "\n",
        "        self.grade = 1\n",
        "\n",
        "    def grade_up(self):\n",
        "        \"\"\"Повышает уровень сотрудника\"\"\"\n",
        "        self.grade += 1\n",
        "\n",
        "    def publish_grade(self):\n",
        "        \"\"\"Публикация результатов аккредитации сотрудников\"\"\"\n",
        "        print(self.name, self.grade)\n",
        "\n",
        "    def check_if_it_is_time_for_upgrade(self):\n",
        "        pass\n",
        "\n",
        "\n",
        "class Designer(Employee):\n",
        "    def __init__(self, name, seniority, awards=2):\n",
        "        super().__init__(name, seniority + awards)\n",
        "\n",
        "    def check_if_it_is_time_for_upgrade(self):\n",
        "        # для каждой аккредитации увеличиваем счетчик на 1\n",
        "        # пока считаем, что все разработчики проходят аккредитацию\n",
        "        self.seniority += 1\n",
        "\n",
        "        # условие повышения сотрудника из презентации\n",
        "        if self.seniority % 7 == 0:\n",
        "            self.grade_up()\n",
        "\n",
        "        # публикация результатов\n",
        "        return self.publish_grade()\n",
        "\n",
        "des = Designer('Vasya', 1, 5)\n",
        "for _ in range(50):\n",
        "  des.check_if_it_is_time_for_upgrade()"
      ],
      "metadata": {
        "id": "iaaVS9Wtsc1Q",
        "colab": {
          "base_uri": "https://localhost:8080/"
        },
        "outputId": "bc8a0871-25f7-489c-b9aa-de47c61cf352"
      },
      "execution_count": 4,
      "outputs": [
        {
          "output_type": "stream",
          "name": "stdout",
          "text": [
            "Vasya 2\n",
            "Vasya 2\n",
            "Vasya 2\n",
            "Vasya 2\n",
            "Vasya 2\n",
            "Vasya 2\n",
            "Vasya 2\n",
            "Vasya 3\n",
            "Vasya 3\n",
            "Vasya 3\n",
            "Vasya 3\n",
            "Vasya 3\n",
            "Vasya 3\n",
            "Vasya 3\n",
            "Vasya 4\n",
            "Vasya 4\n",
            "Vasya 4\n",
            "Vasya 4\n",
            "Vasya 4\n",
            "Vasya 4\n",
            "Vasya 4\n",
            "Vasya 5\n",
            "Vasya 5\n",
            "Vasya 5\n",
            "Vasya 5\n",
            "Vasya 5\n",
            "Vasya 5\n",
            "Vasya 5\n",
            "Vasya 6\n",
            "Vasya 6\n",
            "Vasya 6\n",
            "Vasya 6\n",
            "Vasya 6\n",
            "Vasya 6\n",
            "Vasya 6\n",
            "Vasya 7\n",
            "Vasya 7\n",
            "Vasya 7\n",
            "Vasya 7\n",
            "Vasya 7\n",
            "Vasya 7\n",
            "Vasya 7\n",
            "Vasya 8\n",
            "Vasya 8\n",
            "Vasya 8\n",
            "Vasya 8\n",
            "Vasya 8\n",
            "Vasya 8\n",
            "Vasya 8\n",
            "Vasya 9\n"
          ]
        }
      ]
    }
  ]
}