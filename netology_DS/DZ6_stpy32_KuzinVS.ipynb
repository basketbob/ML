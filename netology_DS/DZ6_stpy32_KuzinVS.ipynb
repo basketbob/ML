{
  "cells": [
    {
      "cell_type": "markdown",
      "metadata": {
        "id": "view-in-github",
        "colab_type": "text"
      },
      "source": [
        "<a href=\"https://colab.research.google.com/github/basketbob/ML/blob/main/netology_DS/DZ6_stpy32_KuzinVS.ipynb\" target=\"_parent\"><img src=\"https://colab.research.google.com/assets/colab-badge.svg\" alt=\"Open In Colab\"/></a>"
      ]
    },
    {
      "cell_type": "code",
      "execution_count": null,
      "metadata": {
        "id": "twHaz12dlxxR"
      },
      "outputs": [],
      "source": [
        "# !pip install scipy"
      ]
    },
    {
      "cell_type": "code",
      "execution_count": null,
      "metadata": {
        "scrolled": true,
        "id": "Ly80zTSIlxxV"
      },
      "outputs": [],
      "source": [
        "import numpy as np\n",
        "import pandas as pd  # для работы с таблицами\n",
        "from scipy import stats # При работе со статистикой\n",
        "import matplotlib.pyplot as plt  # Библиотека для визуализации результатов\n",
        "\n",
        "import seaborn as sns # Более продвинутая библиотека для визуализации"
      ]
    },
    {
      "cell_type": "markdown",
      "metadata": {
        "id": "mD2G6NW3lxxW"
      },
      "source": [
        "<p style=\"align: center;\"><img align=center src=\"https://netology.ru/backend/tilda/images/tild3439-3364-4535-b334-656263633534__main.svg\"  width=900></p>\n",
        "<h3 style=\"text-align: center;\"><b>«Доверительные интервалы. Статистическая проверка гипотез для несвязанных выборок »</b></h3>\n"
      ]
    },
    {
      "cell_type": "code",
      "execution_count": null,
      "metadata": {
        "id": "AFw3IjOnlxxY"
      },
      "outputs": [],
      "source": [
        "#Вспомогательная функция для подсчета доверительного интервала\n",
        "# https://stackoverflow.com/questions/15033511/compute-a-confidence-interval-from-sample-data\n",
        "\n",
        "def mean_confidence_interval(data, confidence=0.95): #Сложный пример реализации. Проще смотри в лекци.\n",
        "    n = len(data)\n",
        "    m, se = np.mean(data), stats.sem(data)\n",
        "    h = se * stats.t.ppf((1 + confidence)/2, n)  #  функция ppf из scipy возвращает нам перцентиль\n",
        "    return m-h, m, m+h"
      ]
    },
    {
      "cell_type": "code",
      "execution_count": null,
      "metadata": {
        "colab": {
          "base_uri": "https://localhost:8080/"
        },
        "id": "fPAVLT_Wlxxa",
        "outputId": "d0f3e01c-56c1-4de2-e149-47cfac328c33"
      },
      "outputs": [
        {
          "output_type": "stream",
          "name": "stdout",
          "text": [
            "(11.707786838827133, 12.391304347826088, 13.074821856825043)\n",
            "(11.02521592553596, 12.391304347826088, 13.757392770116216)\n"
          ]
        }
      ],
      "source": [
        "a =  [5,7,7,9,10,16,7,14,13,15,16,15,\n",
        "     16,17,18,13,14,15,6,13, 14, 12 ,13 ]\n",
        "\n",
        "print(mean_confidence_interval(a, 0.60))\n",
        "print(mean_confidence_interval(a, 0.90))"
      ]
    },
    {
      "cell_type": "markdown",
      "metadata": {
        "id": "zWKAoWDhlxxb"
      },
      "source": [
        "<h3 style=\"text-align: center;\"><b>Выборы в президенты или зачем нам доверительные интерваллы?!</b></h3>\n",
        "\n",
        "<p style=\"align: center;\"><img align=center src=\"https://www.englisch-hilfen.de/images/usa/states/map.gif\"  width=400></p>\n",
        "\n"
      ]
    },
    {
      "cell_type": "markdown",
      "metadata": {
        "id": "cwQwnqEtlxxc"
      },
      "source": [
        "<div class=\"alert alert-info\">\n",
        "<b>Задача: </b>\n",
        "    \n",
        "Попробуем с помощью доверительного интервала оценить, какое минимальное количество штатов надо взять, чтобы определить будущего президента\n",
        "</div>"
      ]
    },
    {
      "cell_type": "code",
      "execution_count": null,
      "metadata": {
        "id": "y_SYLqKRlxxd"
      },
      "outputs": [],
      "source": [
        "US_elect_county = 'https://raw.githubusercontent.com/a-milenkin/datasets_for_t-tests/main/2012_US_elect_county.csv'\n",
        "\n",
        "df = pd.read_csv(US_elect_county, sep=',',  error_bad_lines=False) # Откроем датасет"
      ]
    },
    {
      "cell_type": "code",
      "execution_count": null,
      "metadata": {
        "colab": {
          "base_uri": "https://localhost:8080/",
          "height": 206
        },
        "id": "-1wxn6mDlxxe",
        "outputId": "01344270-3fac-4cd8-ab6f-3e991c322f3a"
      },
      "outputs": [
        {
          "output_type": "execute_result",
          "data": {
            "text/plain": [
              "  State Postal County Name     %\n",
              "0           AK      Alaska  41.6\n",
              "1           AK      Alaska  41.6\n",
              "2           AL     Alabama  38.4\n",
              "3           AL     Autauga  26.6\n",
              "4           AL     Baldwin  21.6"
            ],
            "text/html": [
              "\n",
              "  <div id=\"df-382eb37d-4250-4cc6-a89b-ad3f007b3edd\">\n",
              "    <div class=\"colab-df-container\">\n",
              "      <div>\n",
              "<style scoped>\n",
              "    .dataframe tbody tr th:only-of-type {\n",
              "        vertical-align: middle;\n",
              "    }\n",
              "\n",
              "    .dataframe tbody tr th {\n",
              "        vertical-align: top;\n",
              "    }\n",
              "\n",
              "    .dataframe thead th {\n",
              "        text-align: right;\n",
              "    }\n",
              "</style>\n",
              "<table border=\"1\" class=\"dataframe\">\n",
              "  <thead>\n",
              "    <tr style=\"text-align: right;\">\n",
              "      <th></th>\n",
              "      <th>State Postal</th>\n",
              "      <th>County Name</th>\n",
              "      <th>%</th>\n",
              "    </tr>\n",
              "  </thead>\n",
              "  <tbody>\n",
              "    <tr>\n",
              "      <th>0</th>\n",
              "      <td>AK</td>\n",
              "      <td>Alaska</td>\n",
              "      <td>41.6</td>\n",
              "    </tr>\n",
              "    <tr>\n",
              "      <th>1</th>\n",
              "      <td>AK</td>\n",
              "      <td>Alaska</td>\n",
              "      <td>41.6</td>\n",
              "    </tr>\n",
              "    <tr>\n",
              "      <th>2</th>\n",
              "      <td>AL</td>\n",
              "      <td>Alabama</td>\n",
              "      <td>38.4</td>\n",
              "    </tr>\n",
              "    <tr>\n",
              "      <th>3</th>\n",
              "      <td>AL</td>\n",
              "      <td>Autauga</td>\n",
              "      <td>26.6</td>\n",
              "    </tr>\n",
              "    <tr>\n",
              "      <th>4</th>\n",
              "      <td>AL</td>\n",
              "      <td>Baldwin</td>\n",
              "      <td>21.6</td>\n",
              "    </tr>\n",
              "  </tbody>\n",
              "</table>\n",
              "</div>\n",
              "      <button class=\"colab-df-convert\" onclick=\"convertToInteractive('df-382eb37d-4250-4cc6-a89b-ad3f007b3edd')\"\n",
              "              title=\"Convert this dataframe to an interactive table.\"\n",
              "              style=\"display:none;\">\n",
              "        \n",
              "  <svg xmlns=\"http://www.w3.org/2000/svg\" height=\"24px\"viewBox=\"0 0 24 24\"\n",
              "       width=\"24px\">\n",
              "    <path d=\"M0 0h24v24H0V0z\" fill=\"none\"/>\n",
              "    <path d=\"M18.56 5.44l.94 2.06.94-2.06 2.06-.94-2.06-.94-.94-2.06-.94 2.06-2.06.94zm-11 1L8.5 8.5l.94-2.06 2.06-.94-2.06-.94L8.5 2.5l-.94 2.06-2.06.94zm10 10l.94 2.06.94-2.06 2.06-.94-2.06-.94-.94-2.06-.94 2.06-2.06.94z\"/><path d=\"M17.41 7.96l-1.37-1.37c-.4-.4-.92-.59-1.43-.59-.52 0-1.04.2-1.43.59L10.3 9.45l-7.72 7.72c-.78.78-.78 2.05 0 2.83L4 21.41c.39.39.9.59 1.41.59.51 0 1.02-.2 1.41-.59l7.78-7.78 2.81-2.81c.8-.78.8-2.07 0-2.86zM5.41 20L4 18.59l7.72-7.72 1.47 1.35L5.41 20z\"/>\n",
              "  </svg>\n",
              "      </button>\n",
              "      \n",
              "  <style>\n",
              "    .colab-df-container {\n",
              "      display:flex;\n",
              "      flex-wrap:wrap;\n",
              "      gap: 12px;\n",
              "    }\n",
              "\n",
              "    .colab-df-convert {\n",
              "      background-color: #E8F0FE;\n",
              "      border: none;\n",
              "      border-radius: 50%;\n",
              "      cursor: pointer;\n",
              "      display: none;\n",
              "      fill: #1967D2;\n",
              "      height: 32px;\n",
              "      padding: 0 0 0 0;\n",
              "      width: 32px;\n",
              "    }\n",
              "\n",
              "    .colab-df-convert:hover {\n",
              "      background-color: #E2EBFA;\n",
              "      box-shadow: 0px 1px 2px rgba(60, 64, 67, 0.3), 0px 1px 3px 1px rgba(60, 64, 67, 0.15);\n",
              "      fill: #174EA6;\n",
              "    }\n",
              "\n",
              "    [theme=dark] .colab-df-convert {\n",
              "      background-color: #3B4455;\n",
              "      fill: #D2E3FC;\n",
              "    }\n",
              "\n",
              "    [theme=dark] .colab-df-convert:hover {\n",
              "      background-color: #434B5C;\n",
              "      box-shadow: 0px 1px 3px 1px rgba(0, 0, 0, 0.15);\n",
              "      filter: drop-shadow(0px 1px 2px rgba(0, 0, 0, 0.3));\n",
              "      fill: #FFFFFF;\n",
              "    }\n",
              "  </style>\n",
              "\n",
              "      <script>\n",
              "        const buttonEl =\n",
              "          document.querySelector('#df-382eb37d-4250-4cc6-a89b-ad3f007b3edd button.colab-df-convert');\n",
              "        buttonEl.style.display =\n",
              "          google.colab.kernel.accessAllowed ? 'block' : 'none';\n",
              "\n",
              "        async function convertToInteractive(key) {\n",
              "          const element = document.querySelector('#df-382eb37d-4250-4cc6-a89b-ad3f007b3edd');\n",
              "          const dataTable =\n",
              "            await google.colab.kernel.invokeFunction('convertToInteractive',\n",
              "                                                     [key], {});\n",
              "          if (!dataTable) return;\n",
              "\n",
              "          const docLinkHtml = 'Like what you see? Visit the ' +\n",
              "            '<a target=\"_blank\" href=https://colab.research.google.com/notebooks/data_table.ipynb>data table notebook</a>'\n",
              "            + ' to learn more about interactive tables.';\n",
              "          element.innerHTML = '';\n",
              "          dataTable['output_type'] = 'display_data';\n",
              "          await google.colab.output.renderOutput(dataTable, element);\n",
              "          const docLink = document.createElement('div');\n",
              "          docLink.innerHTML = docLinkHtml;\n",
              "          element.appendChild(docLink);\n",
              "        }\n",
              "      </script>\n",
              "    </div>\n",
              "  </div>\n",
              "  "
            ]
          },
          "metadata": {},
          "execution_count": 5
        }
      ],
      "source": [
        "df.dropna(how='any',inplace=True)  #Удалим пустые значения\n",
        "df=df[df['%']!='#DIV/0!'][['State Postal','County Name','%']] #Удалим мусор из данных и оставим только нужное\n",
        "df['%'] = df['%'].astype(float) # Приведем к численному значению результаты голосования\n",
        "df.head()"
      ]
    },
    {
      "cell_type": "code",
      "execution_count": null,
      "metadata": {
        "colab": {
          "base_uri": "https://localhost:8080/",
          "height": 282
        },
        "id": "2mtyjYgqlxxf",
        "outputId": "2141c9df-b191-4042-983e-bd07820a675d"
      },
      "outputs": [
        {
          "output_type": "stream",
          "name": "stdout",
          "text": [
            "Среднее по всей выборке:  44.07946954813359\n"
          ]
        },
        {
          "output_type": "display_data",
          "data": {
            "text/plain": [
              "<Figure size 432x288 with 1 Axes>"
            ],
            "image/png": "[encoded data removed]"
          },
          "metadata": {
            "needs_background": "light"
          }
        }
      ],
      "source": [
        "df['%'].hist(bins=15)\n",
        "print('Среднее по всей выборке: ', df['%'].mean())"
      ]
    },
    {
      "cell_type": "code",
      "execution_count": null,
      "metadata": {
        "colab": {
          "base_uri": "https://localhost:8080/"
        },
        "id": "ax4RYNHXlxxg",
        "outputId": "e2371f5f-b7ad-4de2-92c8-17005d0c3359"
      },
      "outputs": [
        {
          "output_type": "execute_result",
          "data": {
            "text/plain": [
              "(42.02508490862674, 46.23478260869565, 50.44448030876457)"
            ]
          },
          "metadata": {},
          "execution_count": 7
        }
      ],
      "source": [
        "some_states_1 = ['AK','OH','WV','ME','CA','MD']\n",
        "some_states_2 = ['WA','AK','DE']\n",
        "some_states_3 = ['AZ','RI','MA']\n",
        "\n",
        "sub_df = df.loc[df['State Postal'].isin(some_states_2)]  # Выборка по нескольким штатам\n",
        "\n",
        "l, s, r=mean_confidence_interval(sub_df['%'], 0.99)\n",
        "l, s, r"
      ]
    },
    {
      "cell_type": "code",
      "execution_count": null,
      "metadata": {
        "id": "i6XsR7Adlxxg"
      },
      "outputs": [],
      "source": [
        "#df['State Postal'].value_counts()  # Раскомментить, если интересно соотношение штатов."
      ]
    },
    {
      "cell_type": "markdown",
      "metadata": {
        "id": "3stvZBf1lxxh"
      },
      "source": [
        "<p style=\"align: center;\"><img align=center src=\"https://encrypted-tbn0.gstatic.com/images?q=tbn:ANd9GcQM7ZUiNIwL4fZho5F7zqWpLBw-eL-Ttg0-UA&usqp=CAU\"  width=400></p>\n",
        ""
      ]
    },
    {
      "cell_type": "markdown",
      "metadata": {
        "id": "bpjRFIIHlxxk"
      },
      "source": [
        "<div class=\"alert alert-info\">\n",
        "<b>Другой пример: </b>\n",
        "    \n",
        "Рассмотрим такой случай. Допустим, вы журналист и оказались в 2016 году в преддверии выборов президента в США. Вы хотите по результатам своих исследований достаточно точно определить, кто победит на этих выборах. Сколько вам необходимо опросить людей, чтобы назвать будущего президента с точность в 95%???\n",
        "</div>"
      ]
    },
    {
      "cell_type": "markdown",
      "metadata": {
        "id": "-RR6eB7klxxl"
      },
      "source": [
        "<div class=\"alert alert-info\">\n",
        "    \n",
        "Результаты предшествующих исследований свидетельствуют, что стандартное отклонение генеральной совокупности приближенно равно 15. Пусть погрешность измерений $\\Delta$ = 5. Таким образом, обозначим стандартное отклонение $\\sigma$ = 15 и квантиль нормального распределения Z = 1,96.\n",
        "\n",
        "</div>"
      ]
    },
    {
      "cell_type": "markdown",
      "metadata": {
        "id": "LitZGXOolxxl"
      },
      "source": [
        "$$ n = (\\frac{Z*\\sigma}{\\Delta})^2$$\n",
        "- $\\Delta$ - допустимая ошибка/погрешность,\n",
        "\n",
        "- $\\sigma$ - стандартное отклонение,\n",
        "\n",
        "- Z - квантиль нормального распределения\n"
      ]
    },
    {
      "cell_type": "code",
      "execution_count": null,
      "metadata": {
        "id": "GKjG8A1wlxxl"
      },
      "outputs": [],
      "source": [
        "sigma = 15  # Стандартное отклонение\n",
        "Z = 1.96  #  %   # Квантиль нормального распределения.\n",
        "Delta = 5 #%         #Погрешность"
      ]
    },
    {
      "cell_type": "code",
      "execution_count": null,
      "metadata": {
        "colab": {
          "base_uri": "https://localhost:8080/"
        },
        "id": "XZv4-4lblxxm",
        "outputId": "571f3448-95e0-46b3-804e-23d2e5744b1d"
      },
      "outputs": [
        {
          "output_type": "execute_result",
          "data": {
            "text/plain": [
              "34"
            ]
          },
          "metadata": {},
          "execution_count": 9
        }
      ],
      "source": [
        "N = int(((sigma*Z)/Delta)**2)\n",
        "N"
      ]
    },
    {
      "cell_type": "markdown",
      "metadata": {
        "id": "ws7qkB41lxxm"
      },
      "source": [
        "# Проверим разумность наших расуждений:"
      ]
    },
    {
      "cell_type": "code",
      "execution_count": null,
      "metadata": {
        "colab": {
          "base_uri": "https://localhost:8080/",
          "height": 317
        },
        "id": "q91LLQQ9lxxm",
        "outputId": "985dfec2-9c00-4321-ee16-3c577a0670c0"
      },
      "outputs": [
        {
          "output_type": "stream",
          "name": "stdout",
          "text": [
            "Стандартное отклонение:  15.742396788859017\n",
            "Среднее:  44.07946954813359\n"
          ]
        },
        {
          "output_type": "execute_result",
          "data": {
            "text/plain": [
              "<matplotlib.axes._subplots.AxesSubplot at 0x7f352703de10>"
            ]
          },
          "metadata": {},
          "execution_count": 10
        },
        {
          "output_type": "display_data",
          "data": {
            "text/plain": [
              "<Figure size 432x288 with 1 Axes>"
            ],
            "image/png": "[encoded data removed]"
          },
          "metadata": {
            "needs_background": "light"
          }
        }
      ],
      "source": [
        "df = df['%']\n",
        "print('Стандартное отклонение: ', df.std())\n",
        "print('Среднее: ', df.mean())\n",
        "df.hist(bins=80)"
      ]
    },
    {
      "cell_type": "code",
      "execution_count": null,
      "metadata": {
        "colab": {
          "base_uri": "https://localhost:8080/"
        },
        "id": "iMKHmWyolxxn",
        "outputId": "5dbe1443-8164-46ae-815a-a7025cd4954a"
      },
      "outputs": [
        {
          "output_type": "stream",
          "name": "stdout",
          "text": [
            "Среднее выборки:  48.33823529411764\n",
            "Среднее генеральной совокупности:  44.07946954813359\n",
            "Доверительный интервал: (43.33823529411764, 53.33823529411764)\n"
          ]
        }
      ],
      "source": [
        "MEAN = df.sample(n = int(N)).mean()  # Возьмем выборку из случайных n значений\n",
        "print('Среднее выборки: ', MEAN)\n",
        "print('Среднее генеральной совокупности: ', df.mean())\n",
        "print('Доверительный интервал: (', MEAN-Delta, ', ', MEAN+Delta, ')', sep='')"
      ]
    },
    {
      "cell_type": "code",
      "execution_count": null,
      "metadata": {
        "id": "Zj9yMN3clxxn"
      },
      "outputs": [],
      "source": [
        "# df.boxplot(by='%')"
      ]
    },
    {
      "cell_type": "code",
      "execution_count": null,
      "metadata": {
        "id": "TQGc97hYlxxn"
      },
      "outputs": [],
      "source": [
        "# from scipy.stats import norm\n",
        "# norm.ppf(0.95, loc=0, scale=1)\n"
      ]
    },
    {
      "cell_type": "markdown",
      "metadata": {
        "id": "j9tYXVRblxxo"
      },
      "source": [
        "# Проверка гипотез с помощью Python."
      ]
    },
    {
      "cell_type": "markdown",
      "metadata": {
        "id": "3q8qyxgMlxxo"
      },
      "source": [
        "## T-test (Для двух выборок).  Самый важный!!!!!"
      ]
    },
    {
      "cell_type": "markdown",
      "metadata": {
        "id": "LCcxBP2-lxxo"
      },
      "source": [
        "<div class=\"alert alert-info\">\n",
        "<b>Описание: </b>\n",
        "Такой тест показывает, имеют ли две выборки данных разные средние значения (Теперь у нас две разные выборки, а не одна!). Здесь мы принимаем нулевую гипотезу о том, что обе группы имеют равные средние. Для этого нам не нужен известный параметр численности.\n",
        "</div>"
      ]
    },
    {
      "cell_type": "code",
      "execution_count": null,
      "metadata": {
        "colab": {
          "base_uri": "https://localhost:8080/"
        },
        "id": "AOct_0gflxxo",
        "outputId": "46fe140b-b1c9-4465-d075-1a6ffda3e0fb"
      },
      "outputs": [
        {
          "output_type": "execute_result",
          "data": {
            "text/plain": [
              "(2.4653667464001203, 0.01375151447955999)"
            ]
          },
          "metadata": {},
          "execution_count": 12
        }
      ],
      "source": [
        "from scipy import stats  # Импортируем библиотеку\n",
        "\n",
        "np.random.seed(42)  # Закрепим seed для воспроизводимости результата.\n",
        "\n",
        "# Генерируем случайное множество с нормальным распределением, где среднее = loc, а стандартное отклонение = scale\n",
        "A = stats.norm.rvs(loc=50, scale=10, size=1100)\n",
        "B = stats.norm.rvs(loc=49, scale=10, size=1500)\n",
        "\n",
        "\n",
        "t, p_value = stats.ttest_ind(A, B) #Критерий Стьюдента (t-test)\n",
        "t, p_value"
      ]
    },
    {
      "cell_type": "code",
      "execution_count": null,
      "metadata": {
        "colab": {
          "base_uri": "https://localhost:8080/"
        },
        "id": "hqrtgREmlxxp",
        "outputId": "8909b29c-4266-4e28-cd7a-87947a33bf0a"
      },
      "outputs": [
        {
          "output_type": "execute_result",
          "data": {
            "text/plain": [
              "Ttest_indResult(statistic=2.472112679960154, pvalue=0.013500837093626568)"
            ]
          },
          "metadata": {},
          "execution_count": 13
        }
      ],
      "source": [
        "stats.ttest_ind(A, B, equal_var = False)"
      ]
    },
    {
      "cell_type": "markdown",
      "metadata": {
        "id": "1Zfw6QWxlxxp"
      },
      "source": [
        "**Мы получаем хорошее значение p, равное 0,013, и, таким образом, мы отклоняем нулевую гипотезу, то есть - средние значения двух распределений различны и это различие статистически значимо**"
      ]
    },
    {
      "cell_type": "markdown",
      "metadata": {
        "id": "uD-uARN_lxxp"
      },
      "source": [
        "#### И действительно, если посмотреть на сгенерированные выборки."
      ]
    },
    {
      "cell_type": "code",
      "execution_count": null,
      "metadata": {
        "colab": {
          "base_uri": "https://localhost:8080/",
          "height": 268
        },
        "id": "fNNgpbHolxxq",
        "outputId": "14d22003-3c1c-48d7-dd8e-b9dc233a6e71"
      },
      "outputs": [
        {
          "output_type": "display_data",
          "data": {
            "text/plain": [
              "<Figure size 432x288 with 1 Axes>"
            ],
            "image/png": "[encoded data removed]"
          },
          "metadata": {
            "needs_background": "light"
          }
        }
      ],
      "source": [
        "plt.hist(B, bins=25); #Выборка A\n",
        "plt.hist(A, bins=25);  #Выборка B"
      ]
    },
    {
      "cell_type": "code",
      "execution_count": null,
      "metadata": {
        "id": "EsL7IzPElxxq"
      },
      "outputs": [],
      "source": [
        "# plt.boxplot(A);\n",
        "# plt.boxplot(B);"
      ]
    },
    {
      "cell_type": "markdown",
      "metadata": {
        "id": "0yoUdoV6lxxq"
      },
      "source": [
        "### t-Тест (Критерий Стьюдента имеет несколько разновидностей, ниже приведены еще две)."
      ]
    },
    {
      "cell_type": "markdown",
      "metadata": {
        "id": "6XejWRvqlxxq"
      },
      "source": [
        "# 1. Одновыборочный T-test (Выборка + ГС)"
      ]
    },
    {
      "cell_type": "markdown",
      "metadata": {
        "id": "9i1bBBWllxxq"
      },
      "source": [
        "<div class=\"alert alert-info\">\n",
        "<b>Описание: </b>\n",
        "Давайте попробуем это на одном образце. Тест покажет нам, отличаются ли средние значения выборки и генеральной совокупности (сравниваем с генеральной!). Рассмотрим некоторое количество голосующих из Индии и население всего Мира. Отличается ли средний возраст избирателей Индии от возраста населения? Сейчас выясним!\n",
        "</div>"
      ]
    },
    {
      "cell_type": "code",
      "execution_count": null,
      "metadata": {
        "colab": {
          "base_uri": "https://localhost:8080/"
        },
        "id": "RSEJskhClxxr",
        "outputId": "8549d24b-90c1-4d90-900c-3ba1ae17b160"
      },
      "outputs": [
        {
          "output_type": "stream",
          "name": "stdout",
          "text": [
            "Средний возраст всего мира 20.05285494883601\n",
            "Средний возраст индусов 18.637370653568478\n"
          ]
        }
      ],
      "source": [
        "from scipy import stats\n",
        "np.random.seed(42)\n",
        "\n",
        "population_ages1=stats.norm.rvs(loc=20, scale=45, size=15000)\n",
        "population_ages2=stats.norm.rvs(loc=20, scale=10, size=10000)\n",
        "population_ages=np.concatenate((population_ages1,population_ages2))  # Сгенерировали всю популяцию.\n",
        "\n",
        "india_ages1=stats.norm.rvs(loc=19, scale=65, size=2000)  # Индия 1\n",
        "india_ages2=stats.norm.rvs(loc=19, scale=55, size=2000)\n",
        "india_ages=np.concatenate((india_ages1, india_ages2)) #Выборка\n",
        "print('Средний возраст всего мира',population_ages.mean())\n",
        "print('Средний возраст индусов',india_ages.mean())"
      ]
    },
    {
      "cell_type": "code",
      "execution_count": null,
      "metadata": {
        "colab": {
          "base_uri": "https://localhost:8080/"
        },
        "id": "s_YuVPtXlxxr",
        "outputId": "ab95754e-3205-4d27-96a5-1cf9204bfeaa"
      },
      "outputs": [
        {
          "output_type": "stream",
          "name": "stdout",
          "text": [
            "t_value -1.4937509836536451 p_value 0.13531961104529197\n"
          ]
        }
      ],
      "source": [
        "t_value, p_value = stats.ttest_1samp(a=india_ages, popmean=population_ages.mean())\n",
        "print('t_value', t_value, 'p_value', p_value)"
      ]
    },
    {
      "cell_type": "markdown",
      "metadata": {
        "id": "SY3zum69lxxr"
      },
      "source": [
        "**Теперь это значение `t=-1.493` говорит нам, насколько отклоняется выборочное среднее от нулевой гипотезы.**"
      ]
    },
    {
      "cell_type": "code",
      "execution_count": null,
      "metadata": {
        "id": "r6vYStmklxxs",
        "outputId": "009d2489-0f8b-4cc5-b122-8ff1a0e21fff"
      },
      "outputs": [
        {
          "data": {
            "image/png": "[encoded data removed]",
            "text/plain": [
              "<Figure size 432x288 with 1 Axes>"
            ]
          },
          "metadata": {
            "needs_background": "light"
          },
          "output_type": "display_data"
        }
      ],
      "source": [
        "plt.hist(population_ages, bins=120); # Вся популяция.\n",
        "plt.hist(india_ages, bins=120);  # Выборка"
      ]
    },
    {
      "cell_type": "markdown",
      "metadata": {
        "id": "Ey8gbfv7lxxs"
      },
      "source": [
        "# 2. Парный T-test (Сравнение зависимых)"
      ]
    },
    {
      "cell_type": "markdown",
      "metadata": {
        "id": "TsuOqTq5lxxs"
      },
      "source": [
        "<div class=\"alert alert-info\">\n",
        "<b>Описание: </b>\n",
        "    \n",
        "T-критерий парной выборки, иногда называемый `t-критерием` зависимой выборки, представляет собой статистическую процедуру, используемую для определения того, равна ли нулю средняя разница между двумя наборами наблюдений. В парном выборочном `t-тесте` каждый субъект или объект измеряется дважды, в результате чего получаются пары наблюдений. Общие применения парного `t-критерия` выборки включают исследования случай-контроль или планы повторных измерений.\n",
        "\n",
        " Предположим, вас интересует оценка эффективности программы обучения компании. Один из подходов, который вы можете рассмотреть, - это измерение производительности выборки сотрудников до и после завершения программы и анализ различий с использованием парного выборочного `t-критерия`.\n",
        "</div>"
      ]
    },
    {
      "cell_type": "markdown",
      "metadata": {
        "id": "5NeJlEr4lxxs"
      },
      "source": [
        ""
      ]
    },
    {
      "cell_type": "code",
      "execution_count": null,
      "metadata": {
        "colab": {
          "base_uri": "https://localhost:8080/",
          "height": 300
        },
        "id": "5wNYvB7Clxxs",
        "outputId": "32569868-295f-4bc0-c4b4-4f24b912e9c2"
      },
      "outputs": [
        {
          "output_type": "execute_result",
          "data": {
            "text/plain": [
              "       weight_before  weight_after  weight_change\n",
              "count     100.000000    100.000000     100.000000\n",
              "mean      246.884604    246.723127      -0.161477\n",
              "std        27.245053     27.010808       4.768345\n",
              "min       171.407647    172.518101      -9.866856\n",
              "25%       231.972830    229.732678      -4.301303\n",
              "50%       246.191311    247.144815       0.147536\n",
              "75%       262.178562    261.714136       2.417852\n",
              "max       305.568346    306.534314      13.327846"
            ],
            "text/html": [
              "\n",
              "  <div id=\"df-b149a676-bfc9-48e5-9cc7-b2b857f750be\">\n",
              "    <div class=\"colab-df-container\">\n",
              "      <div>\n",
              "<style scoped>\n",
              "    .dataframe tbody tr th:only-of-type {\n",
              "        vertical-align: middle;\n",
              "    }\n",
              "\n",
              "    .dataframe tbody tr th {\n",
              "        vertical-align: top;\n",
              "    }\n",
              "\n",
              "    .dataframe thead th {\n",
              "        text-align: right;\n",
              "    }\n",
              "</style>\n",
              "<table border=\"1\" class=\"dataframe\">\n",
              "  <thead>\n",
              "    <tr style=\"text-align: right;\">\n",
              "      <th></th>\n",
              "      <th>weight_before</th>\n",
              "      <th>weight_after</th>\n",
              "      <th>weight_change</th>\n",
              "    </tr>\n",
              "  </thead>\n",
              "  <tbody>\n",
              "    <tr>\n",
              "      <th>count</th>\n",
              "      <td>100.000000</td>\n",
              "      <td>100.000000</td>\n",
              "      <td>100.000000</td>\n",
              "    </tr>\n",
              "    <tr>\n",
              "      <th>mean</th>\n",
              "      <td>246.884604</td>\n",
              "      <td>246.723127</td>\n",
              "      <td>-0.161477</td>\n",
              "    </tr>\n",
              "    <tr>\n",
              "      <th>std</th>\n",
              "      <td>27.245053</td>\n",
              "      <td>27.010808</td>\n",
              "      <td>4.768345</td>\n",
              "    </tr>\n",
              "    <tr>\n",
              "      <th>min</th>\n",
              "      <td>171.407647</td>\n",
              "      <td>172.518101</td>\n",
              "      <td>-9.866856</td>\n",
              "    </tr>\n",
              "    <tr>\n",
              "      <th>25%</th>\n",
              "      <td>231.972830</td>\n",
              "      <td>229.732678</td>\n",
              "      <td>-4.301303</td>\n",
              "    </tr>\n",
              "    <tr>\n",
              "      <th>50%</th>\n",
              "      <td>246.191311</td>\n",
              "      <td>247.144815</td>\n",
              "      <td>0.147536</td>\n",
              "    </tr>\n",
              "    <tr>\n",
              "      <th>75%</th>\n",
              "      <td>262.178562</td>\n",
              "      <td>261.714136</td>\n",
              "      <td>2.417852</td>\n",
              "    </tr>\n",
              "    <tr>\n",
              "      <th>max</th>\n",
              "      <td>305.568346</td>\n",
              "      <td>306.534314</td>\n",
              "      <td>13.327846</td>\n",
              "    </tr>\n",
              "  </tbody>\n",
              "</table>\n",
              "</div>\n",
              "      <button class=\"colab-df-convert\" onclick=\"convertToInteractive('df-b149a676-bfc9-48e5-9cc7-b2b857f750be')\"\n",
              "              title=\"Convert this dataframe to an interactive table.\"\n",
              "              style=\"display:none;\">\n",
              "        \n",
              "  <svg xmlns=\"http://www.w3.org/2000/svg\" height=\"24px\"viewBox=\"0 0 24 24\"\n",
              "       width=\"24px\">\n",
              "    <path d=\"M0 0h24v24H0V0z\" fill=\"none\"/>\n",
              "    <path d=\"M18.56 5.44l.94 2.06.94-2.06 2.06-.94-2.06-.94-.94-2.06-.94 2.06-2.06.94zm-11 1L8.5 8.5l.94-2.06 2.06-.94-2.06-.94L8.5 2.5l-.94 2.06-2.06.94zm10 10l.94 2.06.94-2.06 2.06-.94-2.06-.94-.94-2.06-.94 2.06-2.06.94z\"/><path d=\"M17.41 7.96l-1.37-1.37c-.4-.4-.92-.59-1.43-.59-.52 0-1.04.2-1.43.59L10.3 9.45l-7.72 7.72c-.78.78-.78 2.05 0 2.83L4 21.41c.39.39.9.59 1.41.59.51 0 1.02-.2 1.41-.59l7.78-7.78 2.81-2.81c.8-.78.8-2.07 0-2.86zM5.41 20L4 18.59l7.72-7.72 1.47 1.35L5.41 20z\"/>\n",
              "  </svg>\n",
              "      </button>\n",
              "      \n",
              "  <style>\n",
              "    .colab-df-container {\n",
              "      display:flex;\n",
              "      flex-wrap:wrap;\n",
              "      gap: 12px;\n",
              "    }\n",
              "\n",
              "    .colab-df-convert {\n",
              "      background-color: #E8F0FE;\n",
              "      border: none;\n",
              "      border-radius: 50%;\n",
              "      cursor: pointer;\n",
              "      display: none;\n",
              "      fill: #1967D2;\n",
              "      height: 32px;\n",
              "      padding: 0 0 0 0;\n",
              "      width: 32px;\n",
              "    }\n",
              "\n",
              "    .colab-df-convert:hover {\n",
              "      background-color: #E2EBFA;\n",
              "      box-shadow: 0px 1px 2px rgba(60, 64, 67, 0.3), 0px 1px 3px 1px rgba(60, 64, 67, 0.15);\n",
              "      fill: #174EA6;\n",
              "    }\n",
              "\n",
              "    [theme=dark] .colab-df-convert {\n",
              "      background-color: #3B4455;\n",
              "      fill: #D2E3FC;\n",
              "    }\n",
              "\n",
              "    [theme=dark] .colab-df-convert:hover {\n",
              "      background-color: #434B5C;\n",
              "      box-shadow: 0px 1px 3px 1px rgba(0, 0, 0, 0.15);\n",
              "      filter: drop-shadow(0px 1px 2px rgba(0, 0, 0, 0.3));\n",
              "      fill: #FFFFFF;\n",
              "    }\n",
              "  </style>\n",
              "\n",
              "      <script>\n",
              "        const buttonEl =\n",
              "          document.querySelector('#df-b149a676-bfc9-48e5-9cc7-b2b857f750be button.colab-df-convert');\n",
              "        buttonEl.style.display =\n",
              "          google.colab.kernel.accessAllowed ? 'block' : 'none';\n",
              "\n",
              "        async function convertToInteractive(key) {\n",
              "          const element = document.querySelector('#df-b149a676-bfc9-48e5-9cc7-b2b857f750be');\n",
              "          const dataTable =\n",
              "            await google.colab.kernel.invokeFunction('convertToInteractive',\n",
              "                                                     [key], {});\n",
              "          if (!dataTable) return;\n",
              "\n",
              "          const docLinkHtml = 'Like what you see? Visit the ' +\n",
              "            '<a target=\"_blank\" href=https://colab.research.google.com/notebooks/data_table.ipynb>data table notebook</a>'\n",
              "            + ' to learn more about interactive tables.';\n",
              "          element.innerHTML = '';\n",
              "          dataTable['output_type'] = 'display_data';\n",
              "          await google.colab.output.renderOutput(dataTable, element);\n",
              "          const docLink = document.createElement('div');\n",
              "          docLink.innerHTML = docLinkHtml;\n",
              "          element.appendChild(docLink);\n",
              "        }\n",
              "      </script>\n",
              "    </div>\n",
              "  </div>\n",
              "  "
            ]
          },
          "metadata": {},
          "execution_count": 14
        }
      ],
      "source": [
        "np.random.seed(42)\n",
        "before = stats.norm.rvs(scale = 30, loc = 250, size = 100)\n",
        "after = before + stats.norm.rvs(scale = 5, loc = -.273, size = 100)\n",
        "weight_df = pd.DataFrame({\"weight_before\":before,\n",
        "                         \"weight_after\":after,\n",
        "                         \"weight_change\":after-before})\n",
        "weight_df.describe()"
      ]
    },
    {
      "cell_type": "code",
      "execution_count": null,
      "metadata": {
        "colab": {
          "base_uri": "https://localhost:8080/"
        },
        "id": "PrAF0LzZlxxt",
        "outputId": "54e00039-f10c-49d5-e8b3-d649e8bd5807"
      },
      "outputs": [
        {
          "output_type": "execute_result",
          "data": {
            "text/plain": [
              "Ttest_relResult(statistic=0.33864384912652695, pvalue=0.7355952264426646)"
            ]
          },
          "metadata": {},
          "execution_count": 15
        }
      ],
      "source": [
        "stats.ttest_rel(a=before, b=after)"
      ]
    },
    {
      "cell_type": "markdown",
      "metadata": {
        "id": "Ev4TxWgtlxxt"
      },
      "source": [
        "**Итак, мы видим, что у нас есть только 1% шансов найти такие различия между образцами случайно.**"
      ]
    },
    {
      "cell_type": "markdown",
      "metadata": {
        "id": "_-VXeVKBlxxt"
      },
      "source": [
        "# Практическое применение t-Тест Стьюдента"
      ]
    },
    {
      "cell_type": "markdown",
      "metadata": {
        "id": "aehZhxGwlxxt"
      },
      "source": [
        "<div class=\"alert alert-info\">\n",
        "<b>Задание: </b>\n",
        "    \n",
        "Представим, что вы следователь какой-то крупной рекламной компаннии.\n",
        "Ваша задача иследовать рынок манго в течение последних нескольких лет.\n",
        "У вас уже есть предварительные данные. Ваши подчиненные решили схалтурить и принести вам совсем другие отчеты.\n",
        "\n",
        "Сможели ли вы их разоблачить с помощью t-Тест Стьюдента?\n",
        "</div>"
      ]
    },
    {
      "cell_type": "markdown",
      "metadata": {
        "id": "MErH7C18lxxt"
      },
      "source": [
        "<p style=\"align: center;\"><img align=center src=\"https://www.canadianbusiness.com/wp-content/uploads/2012/02/6ed2b4b84defad6ff7b3b813f634.jpg\"  width=500></p>\n",
        "\n"
      ]
    },
    {
      "cell_type": "code",
      "execution_count": null,
      "metadata": {
        "colab": {
          "base_uri": "https://localhost:8080/",
          "height": 372
        },
        "id": "SynIoWgflxxu",
        "outputId": "804c0eac-ece1-473c-cc4b-8ba11738e588"
      },
      "outputs": [
        {
          "output_type": "stream",
          "name": "stderr",
          "text": [
            "/usr/local/lib/python3.7/dist-packages/IPython/core/interactiveshell.py:2882: FutureWarning: The error_bad_lines argument has been deprecated and will be removed in a future version.\n",
            "\n",
            "\n",
            "  exec(code_obj, self.user_global_ns, self.user_ns)\n"
          ]
        },
        {
          "output_type": "stream",
          "name": "stdout",
          "text": [
            "t_value: -191.74088043195104 _pvalue:  0.0\n"
          ]
        },
        {
          "output_type": "display_data",
          "data": {
            "text/plain": [
              "<Figure size 432x288 with 1 Axes>"
            ],
            "image/png": "[encoded data removed]"
          },
          "metadata": {
            "needs_background": "light"
          }
        }
      ],
      "source": [
        "avocado = 'https://raw.githubusercontent.com/a-milenkin/datasets_for_t-tests/main/avocado.csv'\n",
        "Students = 'https://raw.githubusercontent.com/a-milenkin/datasets_for_t-tests/main/StudentsPerformance.csv'\n",
        "\n",
        "A = pd.read_csv(avocado, sep=',', index_col=0, error_bad_lines=False).AveragePrice[:2000]\n",
        "B = pd.read_csv(Students, sep=',', index_col=0, error_bad_lines=False)['math score']\n",
        "tvalue, pvalue = stats.ttest_ind(A, B)\n",
        "print('t_value:',tvalue, '_pvalue: ',pvalue)\n",
        "\n",
        "\n",
        "#и действительно выборки пренадлежать разным распределениям, что очевидно\n",
        "\n",
        "plt.hist(B, bins=15);\n",
        "plt.hist(A, bins=15);"
      ]
    },
    {
      "cell_type": "markdown",
      "metadata": {
        "id": "5LNwJB60lxxu"
      },
      "source": [
        "<div class=\"alert alert-info\">\n",
        "<b>Дополнительно: </b>\n",
        "    \n",
        "Помимо проверки, что выборки могу значимо различаться, t-Тест еще полезен при поиске выбросов в данных.\n",
        "</div>"
      ]
    },
    {
      "cell_type": "code",
      "execution_count": null,
      "metadata": {
        "id": "j14mjyKhlxxu"
      },
      "outputs": [],
      "source": [
        ""
      ]
    },
    {
      "cell_type": "markdown",
      "metadata": {
        "id": "LFVjRrsTlxxu"
      },
      "source": [
        "# Точный критерий Фишера  и  Критерий пирсона ($\\chi^{2}$)"
      ]
    },
    {
      "cell_type": "markdown",
      "metadata": {
        "id": "oCC21cpmlxxu"
      },
      "source": [
        "<div class=\"alert alert-info\">\n",
        "<b>Вспомним: </b>\n",
        "    \n",
        "Критерий Стьюдента позволяет работать с численными переменными, но не позволяет работать с категориальными. Для этого существует критерий Фишера (или Хи-квадрат). Одна из его задач сказать, насколько случайно распределены значения между группами. Позволяет проверить гипотезу, есть ли значимый перевес между группами. Смотри пример в лекции.\n",
        "    \n",
        "</div>"
      ]
    },
    {
      "cell_type": "markdown",
      "metadata": {
        "id": "qnzF8Gm1lxxv"
      },
      "source": [
        "<div class=\"alert alert-info\">\n",
        "<b>Пример: </b>\n",
        "    \n",
        "Например, вы хотите проверить нет ли дискриминации\n",
        "по половому признаку в сфере Data Science.\n",
        "Вы узнали, что в какой-то компании после серии собеседований\n",
        "107 мужчин взяли на работу, а отказали 93-м мужчинам.\n",
        "А среди женщин 74 взяли, а отказали 45-и.\n",
        "Относится ли руководство компании\n",
        "предвзято к мужчинам или к женщинам?\n",
        "    \n",
        "</div>"
      ]
    },
    {
      "cell_type": "code",
      "execution_count": null,
      "metadata": {
        "id": "MOwK56Relxxv",
        "outputId": "404ffe8f-bb3d-4bd8-8e0d-0aabacc9fb00"
      },
      "outputs": [
        {
          "name": "stdout",
          "output_type": "stream",
          "text": [
            "[[107, 93], [74, 45]]\n"
          ]
        },
        {
          "data": {
            "text/plain": [
              "(0.6996512641673932, 0.1607594221528123)"
            ]
          },
          "execution_count": 26,
          "metadata": {},
          "output_type": "execute_result"
        }
      ],
      "source": [
        "import scipy as spy\n",
        "\n",
        "x = [[107,93],[74,45]]\n",
        "print(x)\n",
        "oddsratio, pvalue = spy.stats.fisher_exact(x) # Точный тест Фишера\n",
        "\n",
        "oddsratio, pvalue"
      ]
    },
    {
      "cell_type": "markdown",
      "metadata": {
        "id": "T0hGc00ulxxv"
      },
      "source": [
        "# Критерий Пирсона (он же $\\chi^{2}$ )"
      ]
    },
    {
      "cell_type": "markdown",
      "metadata": {
        "id": "ocF16sJ7lxxv"
      },
      "source": [
        "**Пример использования Хи-квадрат теста**"
      ]
    },
    {
      "cell_type": "markdown",
      "metadata": {
        "id": "xUfANyYBlxxv"
      },
      "source": [
        "<div class=\"alert alert-info\">\n",
        "<b>Пример: </b>\n",
        "    \n",
        "Например, вы хотите проверить правда ли эксперт по Data Science таковым является. Вы составили список вопросов, спросили эксперта и случайных прохожих. Количество правильный вопросов по каждому разделу вы записали в таблицу (таблица смежности)\n",
        "\n",
        "Выясните, исходя из полученных данных, действительно ли перед вами носитель экспертности или пока что еще не очень опытный начинаюший?\n",
        "    \n",
        "</div>"
      ]
    },
    {
      "cell_type": "code",
      "execution_count": null,
      "metadata": {
        "id": "Q6SNI-l-lxxw",
        "outputId": "14ebc09e-7e0c-4195-d2a5-ef582b11d6e3"
      },
      "outputs": [
        {
          "name": "stdout",
          "output_type": "stream",
          "text": [
            "Реальная таблица\n",
            "                    Machine Learning  Data Science  Analytics\n",
            "Эксперт                           22            99         59\n",
            "Случайный прохожий                10            12         31\n"
          ]
        }
      ],
      "source": [
        "import scipy as spy\n",
        "from scipy import stats\n",
        "\n",
        "# Сгенерируем случайную матрицу/табличку 2х2\n",
        "contingency_table = pd.DataFrame(\n",
        "    [\n",
        "[22, 99, 59],\n",
        "[10, 12, 31]\n",
        "    ],\n",
        "    columns = ['Machine Learning', 'Data Science', 'Analytics'],\n",
        "    index = ['Эксперт', 'Случайный прохожий'])\n",
        "\n",
        "print('Реальная таблица')\n",
        "print(contingency_table)\n"
      ]
    },
    {
      "cell_type": "markdown",
      "metadata": {
        "id": "P_Y6Xz8clxxw"
      },
      "source": [
        "**В качестве проверки мы можем сравнить p-значение и уровень значимости. Если значение p <уровня значимости, мы отклоняем нулевую гипотезу.**"
      ]
    },
    {
      "cell_type": "code",
      "execution_count": null,
      "metadata": {
        "id": "tf-jlt7clxxw",
        "outputId": "a6c4955c-2675-4fc3-d90f-f1f623fac09d"
      },
      "outputs": [
        {
          "name": "stdout",
          "output_type": "stream",
          "text": [
            "p-value=0.000173, significance=0.05\n",
            "\n",
            "0.00017303774198262266\n",
            "На 0.05 уровене значимости, мы отвергаем нулевые гипотезы и принимаем H1.\n",
            "            Они не независимы.\n",
            "Это правда эксперт!\n"
          ]
        }
      ],
      "source": [
        "chi, pval, dof, exp = stats.chi2_contingency(contingency_table.values) #Критерий Пирсона (хи квадрат)\n",
        "significance = 0.05\n",
        "print('p-value=%.6f, significance=%.2f\\n' % (pval, significance))\n",
        "\n",
        "print(pval)\n",
        "if pval < significance:\n",
        "    print(\"\"\"На %.2f уровене значимости, мы отвергаем нулевые гипотезы и принимаем H1.\n",
        "            Они не независимы.\"\"\" % (significance))\n",
        "    print('Это правда эксперт!')\n",
        "else:\n",
        "    print(\"\"\"На %.2f уровене значимости, мы принимаем нулевые гипотезы.\n",
        "            Они независимы.\"\"\" % (significance))\n",
        "\n",
        "\n",
        "# Возвращает:\n",
        "# chi2 : Посчитанную статистику теста.\n",
        "# p :  p-value теста\n",
        "# dof : Степени свободы\n",
        "# expected : Ожидаемые частоты, основанные на предельных суммах таблицы."
      ]
    },
    {
      "cell_type": "code",
      "execution_count": null,
      "metadata": {
        "id": "jE0CiHUNlxxw"
      },
      "outputs": [],
      "source": []
    },
    {
      "cell_type": "markdown",
      "metadata": {
        "id": "AcSI0c7qlxxx"
      },
      "source": [
        "# Рынок жилья в New York City  или Трюк с распределением"
      ]
    },
    {
      "cell_type": "markdown",
      "metadata": {
        "id": "9lb8uAbDlxxx"
      },
      "source": [
        "New York City Airbnb Open Data\n",
        "Airbnb listings and metrics in NYC, NY, USA (2019)"
      ]
    },
    {
      "cell_type": "markdown",
      "metadata": {
        "id": "jQe-28tslxxx"
      },
      "source": [
        "<p style=\"align: center;\"><img align=center src=\"https://upload.wikimedia.org/wikipedia/commons/5/5a/New_York_City_District_Map.png\n",
        "\"  width=400></p>\n"
      ]
    },
    {
      "cell_type": "markdown",
      "metadata": {
        "id": "CwGw6_aClxxx"
      },
      "source": [
        "<div class=\"alert alert-info\">\n",
        "<b>Предостирежение: </b>\n",
        "    \n",
        "Для построения доверительного интервала с помощью метода, показанного выше, важно, чтобы распределение исследуемой выборки имело нормально распределение\n",
        "</div>"
      ]
    },
    {
      "cell_type": "code",
      "execution_count": null,
      "metadata": {
        "id": "MWJ_zXcklxxx",
        "outputId": "1ceb9441-07e0-47aa-8dba-921dba9a26ea"
      },
      "outputs": [
        {
          "data": {
            "text/html": [
              "<div>\n",
              "<style scoped>\n",
              "    .dataframe tbody tr th:only-of-type {\n",
              "        vertical-align: middle;\n",
              "    }\n",
              "\n",
              "    .dataframe tbody tr th {\n",
              "        vertical-align: top;\n",
              "    }\n",
              "\n",
              "    .dataframe thead th {\n",
              "        text-align: right;\n",
              "    }\n",
              "</style>\n",
              "<table border=\"1\" class=\"dataframe\">\n",
              "  <thead>\n",
              "    <tr style=\"text-align: right;\">\n",
              "      <th></th>\n",
              "      <th>id</th>\n",
              "      <th>name</th>\n",
              "      <th>host_id</th>\n",
              "      <th>host_name</th>\n",
              "      <th>neighbourhood_group</th>\n",
              "      <th>neighbourhood</th>\n",
              "      <th>latitude</th>\n",
              "      <th>longitude</th>\n",
              "      <th>room_type</th>\n",
              "      <th>price</th>\n",
              "      <th>minimum_nights</th>\n",
              "      <th>number_of_reviews</th>\n",
              "      <th>last_review</th>\n",
              "      <th>reviews_per_month</th>\n",
              "      <th>calculated_host_listings_count</th>\n",
              "      <th>availability_365</th>\n",
              "    </tr>\n",
              "  </thead>\n",
              "  <tbody>\n",
              "    <tr>\n",
              "      <th>0</th>\n",
              "      <td>2539</td>\n",
              "      <td>Clean &amp; quiet apt home by the park</td>\n",
              "      <td>2787</td>\n",
              "      <td>John</td>\n",
              "      <td>Brooklyn</td>\n",
              "      <td>Kensington</td>\n",
              "      <td>40.64749</td>\n",
              "      <td>-73.97237</td>\n",
              "      <td>Private room</td>\n",
              "      <td>149</td>\n",
              "      <td>1</td>\n",
              "      <td>9</td>\n",
              "      <td>2018-10-19</td>\n",
              "      <td>0.21</td>\n",
              "      <td>6</td>\n",
              "      <td>365</td>\n",
              "    </tr>\n",
              "    <tr>\n",
              "      <th>1</th>\n",
              "      <td>2595</td>\n",
              "      <td>Skylit Midtown Castle</td>\n",
              "      <td>2845</td>\n",
              "      <td>Jennifer</td>\n",
              "      <td>Manhattan</td>\n",
              "      <td>Midtown</td>\n",
              "      <td>40.75362</td>\n",
              "      <td>-73.98377</td>\n",
              "      <td>Entire home/apt</td>\n",
              "      <td>225</td>\n",
              "      <td>1</td>\n",
              "      <td>45</td>\n",
              "      <td>2019-05-21</td>\n",
              "      <td>0.38</td>\n",
              "      <td>2</td>\n",
              "      <td>355</td>\n",
              "    </tr>\n",
              "    <tr>\n",
              "      <th>3</th>\n",
              "      <td>3831</td>\n",
              "      <td>Cozy Entire Floor of Brownstone</td>\n",
              "      <td>4869</td>\n",
              "      <td>LisaRoxanne</td>\n",
              "      <td>Brooklyn</td>\n",
              "      <td>Clinton Hill</td>\n",
              "      <td>40.68514</td>\n",
              "      <td>-73.95976</td>\n",
              "      <td>Entire home/apt</td>\n",
              "      <td>89</td>\n",
              "      <td>1</td>\n",
              "      <td>270</td>\n",
              "      <td>2019-07-05</td>\n",
              "      <td>4.64</td>\n",
              "      <td>1</td>\n",
              "      <td>194</td>\n",
              "    </tr>\n",
              "  </tbody>\n",
              "</table>\n",
              "</div>"
            ],
            "text/plain": [
              "     id                                name  host_id    host_name  \\\n",
              "0  2539  Clean & quiet apt home by the park     2787         John   \n",
              "1  2595               Skylit Midtown Castle     2845     Jennifer   \n",
              "3  3831     Cozy Entire Floor of Brownstone     4869  LisaRoxanne   \n",
              "\n",
              "  neighbourhood_group neighbourhood  latitude  longitude        room_type  \\\n",
              "0            Brooklyn    Kensington  40.64749  -73.97237     Private room   \n",
              "1           Manhattan       Midtown  40.75362  -73.98377  Entire home/apt   \n",
              "3            Brooklyn  Clinton Hill  40.68514  -73.95976  Entire home/apt   \n",
              "\n",
              "   price  minimum_nights  number_of_reviews last_review  reviews_per_month  \\\n",
              "0    149               1                  9  2018-10-19               0.21   \n",
              "1    225               1                 45  2019-05-21               0.38   \n",
              "3     89               1                270  2019-07-05               4.64   \n",
              "\n",
              "   calculated_host_listings_count  availability_365  \n",
              "0                               6               365  \n",
              "1                               2               355  \n",
              "3                               1               194  "
            ]
          },
          "execution_count": 29,
          "metadata": {},
          "output_type": "execute_result"
        }
      ],
      "source": [
        "url  = 'https://raw.githubusercontent.com/a-milenkin/datasets_for_t-tests/main/AB_NYC_2019.csv'\n",
        "df = pd.read_csv(url, error_bad_lines=False)\n",
        "#df = pd.read_csv('AB_NYC_2019.csv')\n",
        "df.dropna(how='any',inplace=True)\n",
        "df.head(3)"
      ]
    },
    {
      "cell_type": "code",
      "execution_count": null,
      "metadata": {
        "id": "-V03bUwDlxxx",
        "outputId": "e958b6be-b643-464a-fcf9-b75a074df9da"
      },
      "outputs": [
        {
          "data": {
            "text/plain": [
              "<AxesSubplot:>"
            ]
          },
          "execution_count": 30,
          "metadata": {},
          "output_type": "execute_result"
        },
        {
          "data": {
            "image/png": "[encoded data removed]",
            "text/plain": [
              "<Figure size 432x288 with 1 Axes>"
            ]
          },
          "metadata": {
            "needs_background": "light"
          },
          "output_type": "display_data"
        }
      ],
      "source": [
        "df[df.price<500].price.hist(bins=30)"
      ]
    },
    {
      "cell_type": "code",
      "execution_count": null,
      "metadata": {
        "id": "ZUY0VE0zlxxy",
        "outputId": "15974ae9-8150-49f0-946e-64dc2195a148"
      },
      "outputs": [
        {
          "name": "stdout",
          "output_type": "stream",
          "text": [
            "Можно ли использовать тут наш подход?\n"
          ]
        }
      ],
      "source": [
        "print('Можно ли использовать тут наш подход?')"
      ]
    },
    {
      "cell_type": "markdown",
      "metadata": {
        "id": "zOdy9PPLlxxy"
      },
      "source": [
        "# Теперь сделаем распределение нормальным"
      ]
    },
    {
      "cell_type": "code",
      "execution_count": null,
      "metadata": {
        "id": "z-apsoFjlxxy",
        "outputId": "fc1d70e1-46e7-4470-cdfc-13973490de47"
      },
      "outputs": [
        {
          "data": {
            "text/plain": [
              "<AxesSubplot:>"
            ]
          },
          "execution_count": 32,
          "metadata": {},
          "output_type": "execute_result"
        },
        {
          "data": {
            "image/png": "[encoded data removed]",
            "text/plain": [
              "<Figure size 432x288 with 1 Axes>"
            ]
          },
          "metadata": {
            "needs_background": "light"
          },
          "output_type": "display_data"
        }
      ],
      "source": [
        "np.log2(abs(df[df.price<500].price)+1).hist(bins=30)"
      ]
    },
    {
      "cell_type": "code",
      "execution_count": null,
      "metadata": {
        "id": "--mSL6jVlxxy"
      },
      "outputs": [],
      "source": [
        "# df.neighbourhood_group.hist()"
      ]
    },
    {
      "cell_type": "code",
      "execution_count": null,
      "metadata": {
        "id": "oT-EsgSslxxy",
        "outputId": "9df09039-8e7d-4856-f58d-8233a02388bf"
      },
      "outputs": [
        {
          "name": "stdout",
          "output_type": "stream",
          "text": [
            "122.56345677697612\n"
          ]
        },
        {
          "data": {
            "text/plain": [
              "(111.68856960410567, 115.49388042203987, 119.29919123997406)"
            ]
          },
          "execution_count": 34,
          "metadata": {},
          "output_type": "execute_result"
        }
      ],
      "source": [
        "print(df[df.price<400].price.mean())\n",
        "\n",
        "data = df[(df.neighbourhood_group == 'Brooklyn') | (df.neighbourhood_group=='Staten Island') | (df.neighbourhood_group=='Queens')].price\n",
        "\n",
        "mean_confidence_interval(data, confidence=0.999) # Возможно вам понадобиться эта функция."
      ]
    },
    {
      "cell_type": "markdown",
      "metadata": {
        "id": "FBnnyxYnlxxz"
      },
      "source": [
        "# Задания для самостоятельного решения\n"
      ]
    },
    {
      "cell_type": "markdown",
      "metadata": {
        "id": "mdB2zd4Mlxxz"
      },
      "source": [
        "<div class=\"alert alert-info\">\n",
        "<b>Задание № 0</b>\n",
        "\n",
        "Найдите минимально необходимый объем выборки для построения интервальной оценки среднего.\n",
        "\n",
        "- желаемая точность $\\Delta$ = 3;\n",
        "- дисперсия $\\sigma^2$  = 225;\n",
        "- уровень доверия $\\beta$ = 0.95.\n",
        "    \n",
        "Ответ округлите до целого\n",
        "</div>"
      ]
    },
    {
      "cell_type": "code",
      "execution_count": null,
      "metadata": {
        "id": "TX4dO-PClxxz"
      },
      "outputs": [],
      "source": [
        "### Ваши код/вычисления...\n",
        "n = int(((15*95)/3)**2)\n",
        "n = 22  #Запишите в эту переменную ваш высчитанный ответ!"
      ]
    },
    {
      "cell_type": "code",
      "execution_count": null,
      "metadata": {
        "id": "-JRqNNt0lxxz"
      },
      "outputs": [],
      "source": [
        ""
      ]
    },
    {
      "cell_type": "markdown",
      "metadata": {
        "id": "_wGIqjyKlxxz"
      },
      "source": [
        "<div class=\"alert alert-info\">\n",
        "<b>Задание № 1</b>\n",
        "\n",
        "Постройте `98% доверительный интервал` для среднего значения, если известно, что\n",
        "\n",
        "- объем выборки n = 25;\n",
        "- среднее значение по выборке $\\overline x$ = 130;\n",
        "- Из достоверных источников известно стандартное отклонение $\\sigma = 15$.\n",
        "    \n",
        "В ответ укажите длину полученного доверительного интервала (разницу между правым и левым концом), окруленную до целого\n",
        "</div>"
      ]
    },
    {
      "cell_type": "code",
      "execution_count": null,
      "metadata": {
        "id": "UbkNePMulxx0"
      },
      "outputs": [],
      "source": [
        "### Ваши код/вычесления...\n",
        "h = 15 * stats.t.ppf((1 + 0.98) / 2, 25)  #  функция ppf из scipy возвращает нам перцентиль\n",
        "L = round((130 + h) - (130 - h))\n",
        "L = 75  #Запишите в эту переменную ваш высчитанный ответ!"
      ]
    },
    {
      "cell_type": "code",
      "execution_count": null,
      "metadata": {
        "id": "C5r7nKPnlxx0"
      },
      "outputs": [],
      "source": [
        ""
      ]
    },
    {
      "cell_type": "markdown",
      "metadata": {
        "id": "xiYSiSx9lxx0"
      },
      "source": [
        "### 2. Вам даны две выборки роста мужчин и женщин. Докажите, используя t-Тест Стьдента, что различия между выборками незначительно, если уровень значимости равен 0.001"
      ]
    },
    {
      "cell_type": "markdown",
      "metadata": {
        "id": "9IY2xSCTlxx0"
      },
      "source": [
        "<div class=\"alert alert-info\">\n",
        "<b>Задание № 2</b>\n",
        "\n",
        "Даны две выборки роста мужчин и женщин.\n",
        "- Докажите, используя `t-Тест Стьдента`, что различие между выборками незначительно, если уровень значимости равен $\\alpha$ `= 0.001`.\n",
        "- Покажите различия визуально\n",
        "</div>"
      ]
    },
    {
      "cell_type": "code",
      "execution_count": null,
      "metadata": {
        "colab": {
          "base_uri": "https://localhost:8080/",
          "height": 282
        },
        "id": "H3SrAZT1lxx0",
        "outputId": "cb324a27-b834-4284-9ac1-b119dc456a9c"
      },
      "outputs": [
        {
          "output_type": "stream",
          "name": "stdout",
          "text": [
            "t_value: 3.6635841716708892 _pvalue:  0.00024875321033580573\n"
          ]
        },
        {
          "output_type": "display_data",
          "data": {
            "text/plain": [
              "<Figure size 432x288 with 1 Axes>"
            ],
            "image/png": "[encoded data removed]"
          },
          "metadata": {
            "needs_background": "light"
          }
        }
      ],
      "source": [
        "import scipy.stats as stats\n",
        "np.random.seed(42) #фиксация случайности\n",
        "\n",
        "mens  = stats.norm.rvs(loc=171, scale=100, size=150000)  # Выборка мужчин со средним ростом 171\n",
        "womens = stats.norm.rvs(loc=170, scale=100, size=150000)  # Выборка женщин со средним ростом 170\n",
        "#В двух строчках выше генерируется две выбороки, где loc это среднее значение, а scale это дисперсия\n",
        "\n",
        "### Ваш код...\n",
        "tvalue, pvalue = stats.ttest_ind(mens, womens)\n",
        "print('t_value:',tvalue, '_pvalue: ',pvalue)\n",
        "\n",
        "plt.hist(womens, bins=15);\n",
        "plt.hist(mens, bins=15);"
      ]
    },
    {
      "cell_type": "markdown",
      "metadata": {
        "id": "Vn3CgKr8lxx1"
      },
      "source": [
        "### 3. Определите объем необходимой выборки для исследования среднего чека за кофе в случайном городе, если известно, что в этом городе стандартное отклонение = 150, уровень доверия = 95%. Погрешность 50 рублей."
      ]
    },
    {
      "cell_type": "markdown",
      "metadata": {
        "id": "Y7aRn65alxx1"
      },
      "source": [
        "<div class=\"alert alert-info\">\n",
        "<b>Задание № 3</b>\n",
        "\n",
        "Определите объем необходимой выборки для исследования среднего чека за кофе в случайном городе если известно, что в этом городе:\n",
        "\n",
        "- стандартное отклонение $\\sigma = 150$;\n",
        "- уровень доверия $\\beta$  = 95%;\n",
        "- Погрешность $\\Delta = 50$ рублей.\n",
        "</div>"
      ]
    },
    {
      "cell_type": "code",
      "execution_count": null,
      "metadata": {
        "id": "buwnkAoGlxx1",
        "colab": {
          "base_uri": "https://localhost:8080/"
        },
        "outputId": "88b8d71e-5828-4f6b-b270-ae8b97cc9d3f"
      },
      "outputs": [
        {
          "output_type": "execute_result",
          "data": {
            "text/plain": [
              "8"
            ]
          },
          "metadata": {},
          "execution_count": 18
        }
      ],
      "source": [
        "### Ваш код...\n",
        "N = int(((150 * 0.95) / 50)**2)\n",
        "N"
      ]
    },
    {
      "cell_type": "markdown",
      "metadata": {
        "id": "VPfX2fuTlxx1"
      },
      "source": [
        "<div class=\"alert alert-info\">\n",
        "<b>Задание № 4</b>\n",
        "\n",
        "Представьте, что вы хотите разоблачить \"волшебника\" который считает, что умеет предсказывать погоду на завтра, отвечая просто: дождь или солнце. Вы пронаблюдали за ответами \"волшебника\" в течении какого-то периода времени и получили некие результаты (см.ниже).\n",
        "\n",
        "Можно ли сказать, что маг действительно умеет предсказывать погоду? Уровень значимости принять за `0.05` ($\\alpha=0.05$).\n",
        "</div>"
      ]
    },
    {
      "cell_type": "code",
      "execution_count": null,
      "metadata": {
        "id": "Iq6k1Yxzlxx1",
        "colab": {
          "base_uri": "https://localhost:8080/",
          "height": 112
        },
        "outputId": "04296870-2cbb-4b6b-c2ce-eef497410a6e"
      },
      "outputs": [
        {
          "output_type": "execute_result",
          "data": {
            "text/plain": [
              "        Верные ответы волшебника  Неверные ответы\n",
              "Дождь                         10               15\n",
              "Солнце                        39               34"
            ],
            "text/html": [
              "\n",
              "  <div id=\"df-d1498de8-3eaf-437b-93b6-766f4fe74115\">\n",
              "    <div class=\"colab-df-container\">\n",
              "      <div>\n",
              "<style scoped>\n",
              "    .dataframe tbody tr th:only-of-type {\n",
              "        vertical-align: middle;\n",
              "    }\n",
              "\n",
              "    .dataframe tbody tr th {\n",
              "        vertical-align: top;\n",
              "    }\n",
              "\n",
              "    .dataframe thead th {\n",
              "        text-align: right;\n",
              "    }\n",
              "</style>\n",
              "<table border=\"1\" class=\"dataframe\">\n",
              "  <thead>\n",
              "    <tr style=\"text-align: right;\">\n",
              "      <th></th>\n",
              "      <th>Верные ответы волшебника</th>\n",
              "      <th>Неверные ответы</th>\n",
              "    </tr>\n",
              "  </thead>\n",
              "  <tbody>\n",
              "    <tr>\n",
              "      <th>Дождь</th>\n",
              "      <td>10</td>\n",
              "      <td>15</td>\n",
              "    </tr>\n",
              "    <tr>\n",
              "      <th>Солнце</th>\n",
              "      <td>39</td>\n",
              "      <td>34</td>\n",
              "    </tr>\n",
              "  </tbody>\n",
              "</table>\n",
              "</div>\n",
              "      <button class=\"colab-df-convert\" onclick=\"convertToInteractive('df-d1498de8-3eaf-437b-93b6-766f4fe74115')\"\n",
              "              title=\"Convert this dataframe to an interactive table.\"\n",
              "              style=\"display:none;\">\n",
              "        \n",
              "  <svg xmlns=\"http://www.w3.org/2000/svg\" height=\"24px\"viewBox=\"0 0 24 24\"\n",
              "       width=\"24px\">\n",
              "    <path d=\"M0 0h24v24H0V0z\" fill=\"none\"/>\n",
              "    <path d=\"M18.56 5.44l.94 2.06.94-2.06 2.06-.94-2.06-.94-.94-2.06-.94 2.06-2.06.94zm-11 1L8.5 8.5l.94-2.06 2.06-.94-2.06-.94L8.5 2.5l-.94 2.06-2.06.94zm10 10l.94 2.06.94-2.06 2.06-.94-2.06-.94-.94-2.06-.94 2.06-2.06.94z\"/><path d=\"M17.41 7.96l-1.37-1.37c-.4-.4-.92-.59-1.43-.59-.52 0-1.04.2-1.43.59L10.3 9.45l-7.72 7.72c-.78.78-.78 2.05 0 2.83L4 21.41c.39.39.9.59 1.41.59.51 0 1.02-.2 1.41-.59l7.78-7.78 2.81-2.81c.8-.78.8-2.07 0-2.86zM5.41 20L4 18.59l7.72-7.72 1.47 1.35L5.41 20z\"/>\n",
              "  </svg>\n",
              "      </button>\n",
              "      \n",
              "  <style>\n",
              "    .colab-df-container {\n",
              "      display:flex;\n",
              "      flex-wrap:wrap;\n",
              "      gap: 12px;\n",
              "    }\n",
              "\n",
              "    .colab-df-convert {\n",
              "      background-color: #E8F0FE;\n",
              "      border: none;\n",
              "      border-radius: 50%;\n",
              "      cursor: pointer;\n",
              "      display: none;\n",
              "      fill: #1967D2;\n",
              "      height: 32px;\n",
              "      padding: 0 0 0 0;\n",
              "      width: 32px;\n",
              "    }\n",
              "\n",
              "    .colab-df-convert:hover {\n",
              "      background-color: #E2EBFA;\n",
              "      box-shadow: 0px 1px 2px rgba(60, 64, 67, 0.3), 0px 1px 3px 1px rgba(60, 64, 67, 0.15);\n",
              "      fill: #174EA6;\n",
              "    }\n",
              "\n",
              "    [theme=dark] .colab-df-convert {\n",
              "      background-color: #3B4455;\n",
              "      fill: #D2E3FC;\n",
              "    }\n",
              "\n",
              "    [theme=dark] .colab-df-convert:hover {\n",
              "      background-color: #434B5C;\n",
              "      box-shadow: 0px 1px 3px 1px rgba(0, 0, 0, 0.15);\n",
              "      filter: drop-shadow(0px 1px 2px rgba(0, 0, 0, 0.3));\n",
              "      fill: #FFFFFF;\n",
              "    }\n",
              "  </style>\n",
              "\n",
              "      <script>\n",
              "        const buttonEl =\n",
              "          document.querySelector('#df-d1498de8-3eaf-437b-93b6-766f4fe74115 button.colab-df-convert');\n",
              "        buttonEl.style.display =\n",
              "          google.colab.kernel.accessAllowed ? 'block' : 'none';\n",
              "\n",
              "        async function convertToInteractive(key) {\n",
              "          const element = document.querySelector('#df-d1498de8-3eaf-437b-93b6-766f4fe74115');\n",
              "          const dataTable =\n",
              "            await google.colab.kernel.invokeFunction('convertToInteractive',\n",
              "                                                     [key], {});\n",
              "          if (!dataTable) return;\n",
              "\n",
              "          const docLinkHtml = 'Like what you see? Visit the ' +\n",
              "            '<a target=\"_blank\" href=https://colab.research.google.com/notebooks/data_table.ipynb>data table notebook</a>'\n",
              "            + ' to learn more about interactive tables.';\n",
              "          element.innerHTML = '';\n",
              "          dataTable['output_type'] = 'display_data';\n",
              "          await google.colab.output.renderOutput(dataTable, element);\n",
              "          const docLink = document.createElement('div');\n",
              "          docLink.innerHTML = docLinkHtml;\n",
              "          element.appendChild(docLink);\n",
              "        }\n",
              "      </script>\n",
              "    </div>\n",
              "  </div>\n",
              "  "
            ]
          },
          "metadata": {},
          "execution_count": 19
        }
      ],
      "source": [
        "observations = pd.DataFrame([[10, 15],[39, 34]],\n",
        "                            index=['Дождь','Солнце'],\n",
        "                            columns=['Верные ответы волшебника','Неверные ответы'])\n",
        "observations"
      ]
    },
    {
      "cell_type": "code",
      "execution_count": null,
      "metadata": {
        "id": "m8cp2jEElxx1",
        "colab": {
          "base_uri": "https://localhost:8080/"
        },
        "outputId": "4535bc47-20c1-45e5-a4b8-04c96badafa9"
      },
      "outputs": [
        {
          "output_type": "stream",
          "name": "stdout",
          "text": [
            "Маг шарлатан\n"
          ]
        }
      ],
      "source": [
        "import scipy.stats as stats\n",
        "# Учтите, что у стат. тестов, в том числе и точного теста Фишера под нулевой гипотезой подразумевается случайность/отсутсвие эффекта\n",
        "\n",
        "oddsratio, pvalue = stats.fisher_exact(observations)#Возможно пригодится эта функция.\n",
        "if pvalue < 0.05:\n",
        "  print('Маг действительно умеет предсказывать погоду')\n",
        "else:\n",
        "  print('Маг шарлатан')\n",
        "### Ваш код..."
      ]
    },
    {
      "cell_type": "markdown",
      "metadata": {
        "id": "jBmQ8Hyvlxx2"
      },
      "source": [
        "<div class=\"alert alert-info\">\n",
        "<b>Задание № 5</b>\n",
        "\n",
        "Используя функцию mean_confidence_interval(data, confidence), постройте доверительный интервал с уровнем доверия $\\beta = 90\\%$ для выборки:\n",
        "\n",
        "</div>"
      ]
    },
    {
      "cell_type": "code",
      "execution_count": null,
      "metadata": {
        "id": "03gvUShclxx2",
        "colab": {
          "base_uri": "https://localhost:8080/"
        },
        "outputId": "9a065b8e-5882-43b9-ecea-f2530a3686ca"
      },
      "outputs": [
        {
          "output_type": "stream",
          "name": "stdout",
          "text": [
            "(6.074074746111319, 6.628571428571429, 7.183068111031539)\n"
          ]
        }
      ],
      "source": [
        "data = [4,5,8,9,6,7,5,6,7,8,5,6,7,0,9,8,4,6,\n",
        "        7,9,8,6,5,7,8,9,6,7,5,8,6,7,9,5,10]\n",
        "\n",
        "### Ваш код...\n",
        "print(mean_confidence_interval(data, 0.90))"
      ]
    },
    {
      "cell_type": "markdown",
      "metadata": {
        "id": "4SoO6ri8lxx2"
      },
      "source": [
        "<div class=\"alert alert-info\">\n",
        "<b>Задание № 6</b>\n",
        "\n",
        "Принадлежат ли выборки `A` и `B` одному множеству?\n",
        "    \n",
        "- Оцените это с помощью известных вам тестов для проверок статистических гипотез;\n",
        "- Покажите различия визуально.\n",
        "</div>"
      ]
    },
    {
      "cell_type": "code",
      "execution_count": null,
      "metadata": {
        "id": "hYrWUi92lxx2",
        "colab": {
          "base_uri": "https://localhost:8080/",
          "height": 282
        },
        "outputId": "1193e285-1bb3-414c-da71-8d0c3184b976"
      },
      "outputs": [
        {
          "output_type": "stream",
          "name": "stdout",
          "text": [
            "t_value: 11.865233896372924 _pvalue:  4.623319592204015e-25\n"
          ]
        },
        {
          "output_type": "display_data",
          "data": {
            "text/plain": [
              "<Figure size 432x288 with 1 Axes>"
            ],
            "image/png": "[encoded data removed]"
          },
          "metadata": {
            "needs_background": "light"
          }
        }
      ],
      "source": [
        "A = [4,5,8,9,6,7,5,6,7,6,8,5,6,7,8,4,\n",
        "    6,7,9,8,6,5,7,8,6,7,5,6,8,6,7,5,\n",
        "    4,5,8,9,6,7,5,6,7,6,8,5,6,7,8,4,\n",
        "    6,7,9,8,6,5,7,8,6,7,5,6,8,6,7,5,\n",
        "    4,5,8,9,6,7,5,6,7,6,8,5,6,7,8,4,\n",
        "    6,7,9,8,6,5,7,8,6,7,5,6,8,6,7,5,\n",
        "    4,5,8,9,6,7,5,6,7,6,8,5,6,7,8,4]\n",
        "\n",
        "B = [5,6,7,8,4,6,7,2,6,5,7,5,3,5,3,\n",
        "    5,3,5,5,8,7,6,4,5,3,5,4,6,4,5,3,\n",
        "    2,6,4,3,5,4,3,4,5,4,3,4,5,4,3,4,\n",
        "    2,6,4,3,5,4,3,4,5,4,3,4,5,4,3,4,\n",
        "    3,4,4,1,2,4,3,2,4,3,2,1,5,3,4,6,\n",
        "    3,2,4,5,6,4,3,3,5,3,4,4,4,2,5,3]\n",
        "\n",
        "\n",
        "#Ваш код:\n",
        "tvalue, pvalue = stats.ttest_ind(A, B)\n",
        "print('t_value:',tvalue, '_pvalue: ',pvalue)\n",
        "\n",
        "plt.hist(B, bins=15);\n",
        "plt.hist(A, bins=15);"
      ]
    },
    {
      "cell_type": "markdown",
      "metadata": {
        "id": "Escw9yVLlxx3"
      },
      "source": [
        "<div class=\"alert alert-info\">\n",
        "<b>Задание № 7 (задание без подвоха)</b>\n",
        "\n",
        "На примере датасета про жилье в New York City, мы сталкивались с примером, когда переменная имеет не совсем нормальное распределение.\n",
        "\n",
        "- Предположим, Вы сформировали две гипотезы:\n",
        "    - нулевая гипотеза - распределение нормальное;\n",
        "    - альтернативная гипотеза - распределение ненормальное.\n",
        "- допустим, вы применили какой-то тест (сейчас неважно какой), который показал уровень значимости  `p-value = 0.03`. Каковы будут ваши выводы? Будем считать что у нас нормальное распределение или все-таки нет?)\n",
        "    \n",
        "</div>"
      ]
    },
    {
      "cell_type": "code",
      "execution_count": null,
      "metadata": {
        "id": "ESVQrtWalxx3"
      },
      "outputs": [],
      "source": [
        "### Ваши выводы:\n",
        "# Распределение не нормальное, т.к. слишком маленький уровень значимости."
      ]
    },
    {
      "cell_type": "markdown",
      "metadata": {
        "id": "QEE9yd5Mlxx3"
      },
      "source": [
        "<div class=\"alert alert-info\">\n",
        "<b>Задание № 8</b>\n",
        "    \n",
        "Первая выборка — это пациенты, которых лечили препаратом `А`.  Вторая выборка — пациенты, которых лечили препаратом `B`.\n",
        "\n",
        "Значения в выборках — это некоторая характеристика эффективности лечения (уровень метаболита в крови, температура через три дня после начала лечения, срок выздоровления, число койко-дней, и т.д.)\n",
        "\n",
        "- Требуется выяснить, имеется ли значимое различие эффективности препаратов `А` и `B`, или различия являются чисто случайными и объясняются «естественной» дисперсией выбранной характеристики?  (`уровень значимости принять за 0.05 (5%)`)\n",
        "\n",
        "- При каком минимальном p-value различия были бы уже значимы?\n",
        "    \n",
        "- Если выборки незначительно отличаются, то продемонстрируйте это визуально\n",
        "</div>"
      ]
    },
    {
      "cell_type": "code",
      "execution_count": null,
      "metadata": {
        "id": "dL6zdAW3lxx3",
        "colab": {
          "base_uri": "https://localhost:8080/"
        },
        "outputId": "8c7b7a26-c7ae-4e2f-fa1f-2463464500c5"
      },
      "outputs": [
        {
          "output_type": "execute_result",
          "data": {
            "text/plain": [
              "Ttest_relResult(statistic=-2.0349336314319992, pvalue=0.042739435733033855)"
            ]
          },
          "metadata": {},
          "execution_count": 44
        }
      ],
      "source": [
        "np.random.seed(11)\n",
        "A = stats.norm.rvs(scale=15, loc=169, size=300)\n",
        "B = stats.norm.rvs(scale=14, loc=171.4, size=300)\n",
        "\n",
        "### Ваш код:\n",
        "# Подсказка, обратите внимание на Two-sample T-test\n",
        "stats.ttest_rel(a=A, b=B)"
      ]
    },
    {
      "cell_type": "code",
      "execution_count": null,
      "metadata": {
        "id": "bUcFlzEflxx3",
        "colab": {
          "base_uri": "https://localhost:8080/",
          "height": 265
        },
        "outputId": "45632c1b-8bf3-4759-f797-1e5bcdac772a"
      },
      "outputs": [
        {
          "output_type": "display_data",
          "data": {
            "text/plain": [
              "<Figure size 432x288 with 1 Axes>"
            ],
            "image/png": "[encoded data removed]"
          },
          "metadata": {
            "needs_background": "light"
          }
        }
      ],
      "source": [
        "plt.hist(B, bins=15);\n",
        "plt.hist(A, bins=15);"
      ]
    },
    {
      "cell_type": "code",
      "execution_count": null,
      "metadata": {
        "id": "JnJKc1Qplxx4"
      },
      "outputs": [],
      "source": [
        "#pvalue очень близко по значению к 0.05,  и на графике видно что препараты очень схожи по эффективности.\n",
        "# минимальным p-value =  различия были бы уже значимы"
      ]
    },
    {
      "cell_type": "code",
      "execution_count": null,
      "metadata": {
        "id": "yK5IfXIulxx4"
      },
      "outputs": [],
      "source": []
    }
  ],
  "metadata": {
    "kernelspec": {
      "display_name": "Python 3",
      "language": "python",
      "name": "python3"
    },
    "language_info": {
      "codemirror_mode": {
        "name": "ipython",
        "version": 3
      },
      "file_extension": ".py",
      "mimetype": "text/x-python",
      "name": "python",
      "nbconvert_exporter": "python",
      "pygments_lexer": "ipython3",
      "version": "3.8.5"
    },
    "toc": {
      "base_numbering": 1,
      "nav_menu": {},
      "number_sections": true,
      "sideBar": true,
      "skip_h1_title": false,
      "title_cell": "Table of Contents",
      "title_sidebar": "Contents",
      "toc_cell": false,
      "toc_position": {},
      "toc_section_display": true,
      "toc_window_display": false
    },
    "colab": {
      "provenance": [],
      "include_colab_link": true
    }
  },
  "nbformat": 4,
  "nbformat_minor": 0
}