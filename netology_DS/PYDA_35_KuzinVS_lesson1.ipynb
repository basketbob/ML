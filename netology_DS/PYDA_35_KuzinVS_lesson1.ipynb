{
  "nbformat": 4,
  "nbformat_minor": 0,
  "metadata": {
    "colab": {
      "provenance": [],
      "authorship_tag": "ABX9TyMRF6aBuNiIRUhRaB8u65PV",
      "include_colab_link": true
    },
    "kernelspec": {
      "name": "python3",
      "display_name": "Python 3"
    },
    "language_info": {
      "name": "python"
    }
  },
  "cells": [
    {
      "cell_type": "markdown",
      "metadata": {
        "id": "view-in-github",
        "colab_type": "text"
      },
      "source": [
        "<a href=\"https://colab.research.google.com/github/basketbob/ML/blob/main/netology_DS/PYDA_35_KuzinVS_lesson1.ipynb\" target=\"_parent\"><img src=\"https://colab.research.google.com/assets/colab-badge.svg\" alt=\"Open In Colab\"/></a>"
      ]
    },
    {
      "cell_type": "code",
      "execution_count": null,
      "metadata": {
        "id": "BvOYhc4zS0QB"
      },
      "outputs": [],
      "source": [
        "#Задание 1\n",
        "\n",
        "phrase_1 = 'Насколько проще было бы писать программы, если бы не заказчfs'\n",
        "phrase_2 = '640Кб должно хватить для любых задач. Билл Гейтс (по легенде)'\n",
        "\n",
        "if len(phrase_1) > len(phrase_2):\n",
        "  print('Фраза 1 длиннее фразы 2')\n",
        "elif len(phrase_1) < len(phrase_2):\n",
        "  print('Фраза 2 длиннее фразы 1')\n",
        "else:\n",
        "  print('Фразы равной длины')"
      ]
    },
    {
      "cell_type": "code",
      "source": [
        "#Задание 2\n",
        "\n",
        "year = int(input('Введите год:'))\n",
        "\n",
        "if year % 4 == 0:\n",
        "  print('Високосный год')\n",
        "else:\n",
        "  print('Обычный год')"
      ],
      "metadata": {
        "id": "2cYSNbxcUMrA"
      },
      "execution_count": null,
      "outputs": []
    },
    {
      "cell_type": "code",
      "source": [
        "#Задание 3\n",
        "\n",
        "# собираем данные\n",
        "day = int(input('Введите день:'))\n",
        "month = input('Введите месяц:').lower()\n",
        "\n",
        "#делаем минимальную проверку на вводимые данные\n",
        "if 0 < day < 32:\n",
        "\n",
        "  #проверяем сначалла месяц, затем число\n",
        "  if month == 'январь':\n",
        "    zodiac = 'Козерог' if (day < 20) else 'Водолей'\n",
        "  elif month == 'февраль':\n",
        "    zodiac = 'Водолей' if (day < 19) else 'Рыбы'\n",
        "  elif month == 'март':\n",
        "    zodiac = 'Рыбы' if (day < 21) else 'Овен'\n",
        "  elif month == 'апрель':\n",
        "    zodiac = 'Овен' if (day < 20) else 'Телец'\n",
        "  elif month == 'май':\n",
        "    zodiac = 'Телец' if (day < 21) else 'Близнецы'\n",
        "  elif month == 'июнь':\n",
        "    zodiac = 'Близнецы' if (day < 21) else 'Рак'\n",
        "  elif month == 'июль':\n",
        "    zodiac = 'Рак' if (day < 23) else 'Лев'\n",
        "  elif month == 'август':\n",
        "    zodiac = 'Лев' if (day < 23) else 'Дева'\n",
        "  elif month == 'сентябрь':\n",
        "    zodiac = 'Дева' if (day < 23) else 'Весы'\n",
        "  elif month == 'октябрь':\n",
        "    zodiac = 'Весы' if (day < 23) else 'Скорпион'\n",
        "  elif month == 'ноябрь':\n",
        "    zodiac = 'Скорпион' if (day < 22) else 'Стрелец'\n",
        "  elif month == 'декабрь':\n",
        "    zodiac = 'Стрелец' if (day < 22) else 'Козерог'\n",
        "  else:\n",
        "    zodiac = 'Не определен. Скорее всего некорректно введен месяц.'\n",
        "\n",
        "  print('Ваш знак зодиака:', zodiac)\n",
        "else:\n",
        "  print('День может быть только в диапозоне от 1 до 31')"
      ],
      "metadata": {
        "id": "9uStfb1aVSt4"
      },
      "execution_count": null,
      "outputs": []
    },
    {
      "cell_type": "code",
      "source": [
        "#Задание 4\n",
        "\n",
        "width = 15\n",
        "length = 50\n",
        "height = 15\n",
        "\n",
        "if width <= 15 and length  <= 15 and height <= 15:\n",
        "  print('Коробка №1')\n",
        "elif (15 < width < 50) or (15 < length < 50) or (15 < height < 50): #взял в скобки, так визуально проще воспринимается\n",
        "  print('Коробка №2')\n",
        "elif length > 100:\n",
        "  print('Упаковка для лыж')\n",
        "else:\n",
        "  print('Стандартная коробка №3')"
      ],
      "metadata": {
        "id": "GfuyRv-dpRrI"
      },
      "execution_count": null,
      "outputs": []
    },
    {
      "cell_type": "code",
      "source": [
        "#Задание 5\n",
        "\n",
        "number = 123321\n",
        "number = str(number) #переводим в тип строка\n",
        "\n",
        "#суммируем посимвольно первые три, затем вторые три\n",
        "sum1 = int(number[2]) + int(number[1]) + int(number[0])\n",
        "sum2 = int(number[3]) + int(number[4]) + int(number[5])\n",
        "\n",
        "#проверяем равны или нет\n",
        "if sum1 == sum2:\n",
        "  print('Счастливый билет')\n",
        "else:\n",
        "  print('Несчастливый билет')"
      ],
      "metadata": {
        "id": "TShm6TCbssCM"
      },
      "execution_count": null,
      "outputs": []
    },
    {
      "cell_type": "code",
      "source": [
        "#Задание 6\n",
        "from math import pi, sqrt\n",
        "\n",
        "figure_type = input('Введите тип фигуры (круг, треугольник, прямоугольник):').lower()\n",
        "figure_correct = True #верно ли введено название фигуры, по умолчанию верно\n",
        "square = 0\n",
        "\n",
        "#проверяем тип фигуры и делаем вычисления\n",
        "if figure_type == 'круг':\n",
        "  radius = int(input('Введите радиус круга:'))\n",
        "  square = pi * radius**2\n",
        "elif figure_type == 'треугольник':\n",
        "  len1 = int(input('Введите длину 1 стороны:'))\n",
        "  len2 = int(input('Введите длину 2 стороны:'))\n",
        "  len3 = int(input('Введите длину 3 стороны:'))\n",
        "\n",
        "  half_perimetr = (len1 + len2 + len3) / 2\n",
        "  square = sqrt(half_perimetr * (half_perimetr - len1) * (half_perimetr - len2) * (half_perimetr - len3))\n",
        "elif figure_type == 'прямоугольник':\n",
        "  len1 = int(input('Введите длину 1 стороны:'))\n",
        "  len2 = int(input('Введите длину 2 стороны:'))\n",
        "  square = len1 * len2\n",
        "else:\n",
        "  #ввели некорректное название фигуры\n",
        "  figure_correct = False\n",
        "\n",
        "print('Результат:')\n",
        "if figure_correct:\n",
        "  square = round(square, 2)\n",
        "  print('Площадь ' + figure_type + 'а = ', square)\n",
        "else:\n",
        "  print('название фигуры введено неверно')\n"
      ],
      "metadata": {
        "id": "hIfiMXB8usLV"
      },
      "execution_count": null,
      "outputs": []
    }
  ]
}