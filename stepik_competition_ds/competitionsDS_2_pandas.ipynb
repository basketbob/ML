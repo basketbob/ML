{
  "nbformat": 4,
  "nbformat_minor": 0,
  "metadata": {
    "colab": {
      "provenance": [],
      "authorship_tag": "ABX9TyNoL0O0KA6PaI+e37ZWXbKy",
      "include_colab_link": true
    },
    "kernelspec": {
      "name": "python3",
      "display_name": "Python 3"
    },
    "language_info": {
      "name": "python"
    }
  },
  "cells": [
    {
      "cell_type": "markdown",
      "metadata": {
        "id": "view-in-github",
        "colab_type": "text"
      },
      "source": [
        "<a href=\"https://colab.research.google.com/github/basketbob/ML/blob/main/stepik_competition_ds/competitionsDS_2_pandas.ipynb\" target=\"_parent\"><img src=\"https://colab.research.google.com/assets/colab-badge.svg\" alt=\"Open In Colab\"/></a>"
      ]
    },
    {
      "cell_type": "markdown",
      "source": [
        "Задача:\n",
        "\n",
        "Соединить эти две таблицы вместе.\n",
        "Оставить только строки, где rating > 4 и stop_times равен 2, 3 или 5.\n",
        "В получившемся датафрейме оставить только те строки, где car_id не входит в список car_black_list и user_id входит в список user_white_list.\n",
        "Оставить только строки, где index чётное число (датафрейм проиндексирован целыми числами).\n",
        "Итоговый объект pd.DataFrame() поместить в переменную result.\n",
        "На вход подается:\n",
        "\n",
        "Переменная df1 - полный DataFrame с исходными данными;\n",
        "Переменная df2 - полный DataFrame с исходными данными;\n",
        "Переменные car_black_list, user_white_list.\n",
        "\n",
        "На выходе принимается: result:pd.DataFrame()"
      ],
      "metadata": {
        "id": "FSLuxbaaOZ_7"
      }
    },
    {
      "cell_type": "code",
      "execution_count": null,
      "metadata": {
        "id": "ixNQ89qfOMJr"
      },
      "outputs": [],
      "source": [
        "import pandas as pd\n",
        "\n",
        "df1 = pd.read_csv('https://stepik.org/media/attachments/lesson/681964/2.2.6_df1.csv', index_col=0)\n",
        "df2 = pd.read_csv('https://stepik.org/media/attachments/lesson/681964/2.2.6_df2.csv', index_col=0)\n",
        "\n",
        "# Учтите, что user_white_list и car_black_list в тестовой системе будут иметь другую длину и другие значения\n",
        "user_white_list = ['g10995906g', 'H90312511Q', 'C27138482L', 'H22518078t', 'n17438464n', 'F10525768e', 's15596151o', 'i18954748S', 'E84048392U', 'E69893354s']\n",
        "car_black_list = ['l-4285389z', 'n79502261g', 'N-1839822D']\n",
        "\n",
        "# В ans содержится правильный ответ. Перед отправкой своего решения, сравнитесь с ним.\n",
        "ans = pd.read_csv('https://stepik.org/media/attachments/lesson/681964/2_2_6_ans.csv', index_col=0)\n",
        "\n",
        "df12 = pd.concat([df1, df2])\n",
        "\n",
        "df_query = df12.query('rating > 4 & stop_times in [2,3,5]')\n",
        "\n",
        "filter_car = ~df_query['car_id'].isin(car_black_list)\n",
        "filter_user = df_query['user_id'].isin(user_white_list)\n",
        "df_query = df_query[filter_car & filter_user]\n",
        "\n",
        "result = df_query.iloc[::2]"
      ]
    },
    {
      "cell_type": "markdown",
      "source": [
        "Объект pd.DataFrame() помещен в переменную df. У объекта есть столбцы user_id, user_rating, age, user_rides, user_time_accident\n",
        "\n",
        "Задача:\n",
        "\n",
        "* Создайте столбец tripple_accident из столбца user_time_accident,  умноженного на 3.\n",
        "* Создайте столбец rides_on_rating делением столбца user_rides на user_rating.\n",
        "* Оставьте только те строки, у которых user_time_accident больше 25 (используем фильтрацию).\n",
        "* Оставьте только те строки, у которых age выше среднего значения по полученной таблице в предыдущем пункте.\n",
        "\n",
        "На вход подается: df - полный DataFrame с исходными данными.\n",
        "\n",
        "На выходе принимается: Измененный DataFrame (переменная df)."
      ],
      "metadata": {
        "id": "FiT13PjiOijg"
      }
    },
    {
      "cell_type": "code",
      "source": [
        "import pandas as pd\n",
        "\n",
        "df = pd.read_csv('https://stepik.org/media/attachments/lesson/681964/2_2_8.csv')\n",
        "\n",
        "# В ans содержится правильный ответ. Перед отправкой своего решения, сравнитесь с ним.\n",
        "ans = pd.read_csv('https://stepik.org/media/attachments/lesson/681964/2_2_8_ans.csv', index_col=0)\n",
        "\n",
        "# Входные данные записаны в переменную df, проводим манипуляции с датафреймом\n",
        "# Ваш код\n",
        "df['tripple_accident'] = df['user_time_accident'] * 3\n",
        "df['rides_on_rating'] = df['user_rides'] / df['user_rating']\n",
        "df.query('user_time_accident > 25', inplace=True)\n",
        "df = df.loc[df.age >= df.age.mean()]"
      ],
      "metadata": {
        "id": "rsxuOLGfOiwe"
      },
      "execution_count": null,
      "outputs": []
    },
    {
      "cell_type": "markdown",
      "source": [
        "Объект pd.DataFrame() помещен в переменную df.\n",
        "\n",
        "У объекта есть столбцы: car_id, worker_id, fix_date , work_type,  destroy_degree и work_duration.\n",
        "\n",
        "Задача:\n",
        "\n",
        "* Добавьте новую строку (с индексом new_index:(int / str) и значениями new_data:list).\n",
        "* Удалите строки с индексами из списка del_index_list: list.\n",
        "* Увеличьте значение destroy_degree на 1 в строке с индексом равным index. Переменная index содержит индекс строки ИЛИ число (индекс).\n",
        "* Удалите столбец fix_date, т.к. не стоит сейчас думать о времени.\n",
        "* Создайте новый столбец efficient, который равен destroy_degree деленный на work_duration.\n",
        "* Возведите столбец work_duration в квадрат.\n",
        "* Переименуйте столбец work_duration в work_duration_square.\n",
        "* Удалите дубликаты по столбцу car_id.\n",
        "\n",
        "Замечание: Предполагается (в тесте), что в датафрейме нет строки с индексом new_index, если такая строка есть, то код ее затрет. Последовательность действий важна. Чтобы new_data хорошо вставилась, ее надо вставлять до добавления новых столбцов.\n",
        "\n",
        "На вход подается:\n",
        "\n",
        "Переменная df - с полным DataFrame с исходными данными.\n",
        "\n",
        "Переменные - new_index, new_data, del_index_list, index.\n",
        "\n",
        "На выходе принимается: Измененный DataFrame (переменная df)."
      ],
      "metadata": {
        "id": "bEgpIZkzOi-o"
      }
    },
    {
      "cell_type": "code",
      "source": [
        "import pandas as pd\n",
        "\n",
        "df = pd.read_csv('https://stepik.org/media/attachments/lesson/681964/2_2_10.csv')\n",
        "\n",
        "# Учтите, что new_index, new_data, del_index_list, index в тестовой системе будут иметь другие значения\n",
        "new_index = 50\n",
        "new_data = ['new_car_id', 'new_worker_id', '2019-11-11 4:44','refuel_check', 3.5, 10]\n",
        "del_index_list = [41, 18, 33, 7, 46]\n",
        "index = 22\n",
        "\n",
        "\n",
        "# В ans содержится правильный ответ. Перед отправкой своего решения, сравнитесь с ним.\n",
        "ans = pd.read_csv('https://stepik.org/media/attachments/lesson/681964/2_2_10_ans.csv')\n",
        "\n",
        "#YOUR Code here...\n",
        "df.loc[new_index] = new_data\n",
        "df.drop(del_index_list, inplace=True)\n",
        "df.loc[index,'destroy_degree'] = df.loc[index,'destroy_degree'] + 1\n",
        "df.drop('fix_date', axis=1, inplace=True)\n",
        "df['efficient'] = df['destroy_degree'] / df['work_duration']\n",
        "df['work_duration'] = df['work_duration']**2\n",
        "df.rename(columns={\"work_duration\": \"work_duration_square\"}, inplace=True)\n",
        "df.drop_duplicates(subset=['car_id'], inplace=True)"
      ],
      "metadata": {
        "id": "3Q4xSiEZOjKB"
      },
      "execution_count": null,
      "outputs": []
    },
    {
      "cell_type": "markdown",
      "source": [
        "Объект pd.DataFrame() помещен в переменную df со столбцами car_id, riders, car_type и некоторыми другими.\n",
        "\n",
        "Переменная sort_by_list: List[str] содержит список из 2 строковых значений (имен столбцов, по которым необходимо провести сортировку).\n",
        "\n",
        "**Задача:**\n",
        "\n",
        "* Отсортируйте строки сначала по убыванию 1-го столбца из списка sort_by_list, затем по возрастанию 2-го столбца из списка.\n",
        "* Удалите столбцы из списка cols2drop с учетом того, что некоторых столбцов может не быть в df.\n",
        "* Сделайте порядок столбцов в df в соответствии с переменной columns_order_list: List[str].\n",
        "* Удалите строки, в которых car_rating < critical_car_rating.\n",
        "* Удалите строки, где число поездок riders больше 10_000, или тип машины car_type относится либо к standart, либо к economy.\n",
        "\n",
        "**На вход подается:** Переменная df - с полным DataFrame с исходными данными,  sort_by_list,  columns_order_list, cols2drop и critical_car_rating.\n",
        "\n",
        "**На выходе принимается:** Измененный DataFrame (переменная df)."
      ],
      "metadata": {
        "id": "quF1skN5OjVe"
      }
    },
    {
      "cell_type": "code",
      "source": [
        "import pandas as pd\n",
        "\n",
        "df = pd.read_csv('https://stepik.org/media/attachments/lesson/681964/2.2.11.csv')\n",
        "\n",
        "# Учтите, что sort_by_list, cols2drop, columns_order_list в тестовой системе будут иметь другие значения.\n",
        "sort_by_list = ['car_rating', 'riders']\n",
        "cols2drop = ['random_name_1', 'target_reg', 'target_class', 'random_name_2']\n",
        "columns_order_list = ['model', 'car_type', 'car_id', 'car_rating', 'year_to_start', 'year_to_work', 'riders', 'fuel_type']\n",
        "critical_car_rating = 2\n",
        "\n",
        "# В ans содержится правильный ответ. Перед отправкой своего решения, сравнитесь с ним.\n",
        "ans = pd.read_csv('https://stepik.org/media/attachments/lesson/681964/2_2_11_ans.csv', index_col=0)\n",
        "\n",
        "df.sort_values(sort_by_list, ascending=[False, True], inplace=True)\n",
        "df.drop(columns=cols2drop, errors='ignore', inplace=True)\n",
        "df = df.reindex(columns=columns_order_list)\n",
        "df = df[df['car_rating'] >= critical_car_rating]\n",
        "df = df[(df['riders'] <= 10000) & ~(df['car_type'].isin(['standart', 'economy']))]"
      ],
      "metadata": {
        "id": "sG-i-huJOjgn"
      },
      "execution_count": null,
      "outputs": []
    },
    {
      "cell_type": "markdown",
      "source": [
        "* Запишите в переменную mean_rating среднее по столбцу car_rating .\n",
        "* Увеличьте на один все значения в столбцах car_rating и year_to_work.\n",
        "* Отфильтруйте любым из удобных способов машины с рейтингом выше среднего от столбца car_rating (используйте переменную mean_rating).\n",
        "* Преобразуйте столбец year_to_work следующим образом: если значение меньше 2017, то прибавьте 2, иначе разделите значение нацело на 5.\n",
        "* Переименуйте столбец year_to_start в new_year_to_start и удалите столбец fuel_type.\n",
        "* Ко всем значениям из столбца car_type добавьте приставку super_ (standart -> super_standart).\n",
        "* Решение запишите в переменную result.\n",
        "\n",
        "На выходе принимается: mean_rating - среднее по столбцу 'car_rating' и новый датафрейм в переменной result."
      ],
      "metadata": {
        "id": "lKtJYP6sOjro"
      }
    },
    {
      "cell_type": "code",
      "source": [
        "import pandas as pd\n",
        "\n",
        "df = pd.read_csv('https://stepik.org/media/attachments/lesson/681964/2_2_12.csv')\n",
        "\n",
        "# В ans содержится правильный ответ. Перед отправкой своего решения, сравнитесь с ним.\n",
        "ans = pd.read_csv('https://stepik.org/media/attachments/lesson/681964/2_2_12_ans.csv')\n",
        "\n",
        "mean_rating = df['car_rating'].mean()\n",
        "df['car_rating'] += 1\n",
        "df['year_to_work'] += 1\n",
        "df = df[df['car_rating'] > mean_rating]\n",
        "df['year_to_work'] = df['year_to_work'].apply(lambda x: x + 2 if x < 2017 else x // 5)\n",
        "df.rename(columns={'year_to_start' : 'new_year_to_start'}, inplace=True)\n",
        "df.drop(columns=['fuel_type'], errors='ignore', inplace=True)\n",
        "df['car_type'] = 'super_' + df['car_type']\n",
        "result = df"
      ],
      "metadata": {
        "id": "kry02s2MOj3J"
      },
      "execution_count": null,
      "outputs": []
    },
    {
      "cell_type": "markdown",
      "source": [
        "**Задача:**\n",
        "\n",
        "* Добавьте столбец flag, который равен 'good_line', если rating > 5 and speed_max < 100. 'bad_line', если  rating > 5 and speed_max > 100. 'undefined' в остальных случаях.\n",
        "* Добавьте столбец speed_check, который принимает значения 'avg_more', если distance/ride_duration > speed_avg, иначе 'avg_less'.\n",
        "* Удалите столбцы из списка cols2drop.\n",
        "* Удалите строки, в которых car_id имеет пустые значения (только NA удаляем).\n",
        "* Результат запишите в переменную result.\n",
        "\n",
        "**На вход подается:** df - полный DataFrame с исходными данными. cols2drop - список колонок для удаления.\n",
        "\n",
        "**На выходе принимается:** переменная result."
      ],
      "metadata": {
        "id": "VRC6koZIOhjr"
      }
    },
    {
      "cell_type": "code",
      "source": [
        "import pandas as pd\n",
        "\n",
        "df = pd.read_csv('https://stepik.org/media/attachments/lesson/681964/2_2_13.csv')\n",
        "\n",
        "# Учтите, что cols2drop в тестовой системе будет иметь другие значения.\n",
        "cols2drop = ['ride_cost', 'stop_times', 'user_ride_quality']\n",
        "\n",
        "# В ans содержится правильный ответ. Перед отправкой своего решения, сравнитесь с ним.\n",
        "ans = pd.read_csv('https://stepik.org/media/attachments/lesson/681964/2_2_13_ans.csv', index_col=0)\n",
        "\n",
        "df['flag'] = 'undefined'\n",
        "df['flag'].loc[(df['rating'] > 5) & (df['speed_max'] < 100)] = 'good_line'\n",
        "df['flag'].loc[(df['rating'] > 5) & (df['speed_max'] > 100)] = 'bad_line'\n",
        "df['speed_check'] = df.apply(lambda row: 'avg_more' if row['distance'] / row['ride_duration'] > row['speed_avg'] else 'avg_less', axis=1)\n",
        "df.drop(columns=cols2drop, inplace=True)\n",
        "df.dropna(subset=['car_id'], inplace=True)\n",
        "result= df"
      ],
      "metadata": {
        "id": "Z4DqliwfQZDt"
      },
      "execution_count": null,
      "outputs": []
    },
    {
      "cell_type": "markdown",
      "source": [
        "**Задача:**\n",
        "\n",
        "* Посчитайте количество пропусков в каждой строке и запишите это в новый столбец nans_num.\n",
        "* Удалите строки, где количество пропусков больше 2.\n",
        "* Удалите строки, где age имеет пропущенные значения.\n",
        "* Заполните пропущенные значения в столбце user_time_accident медианным значением.\n",
        "* Оставьте только столбцы age, user_rides, user_time_accident.\n",
        "* Решение запишите в переменную result.\n",
        "\n",
        "**На вход подается:** df - полный DataFrame с исходными данными.\n",
        "\n",
        "**На выходе принимается:** переменная result."
      ],
      "metadata": {
        "id": "i6gxHyruQy-k"
      }
    },
    {
      "cell_type": "code",
      "source": [
        "import pandas as pd\n",
        "\n",
        "df = pd.read_csv('https://stepik.org/media/attachments/lesson/681964/2_2_14.csv')\n",
        "\n",
        "# В ans содержится правильный ответ. Перед отправкой своего решения, сравнитесь с ним.\n",
        "ans = pd.read_csv('https://stepik.org/media/attachments/lesson/681964/2_2_14_ans.csv', index_col=0)\n",
        "\n",
        "df['nans_num'] = df.isnull().sum(axis=1)\n",
        "df = df[df['nans_num'] < 3]\n",
        "df.dropna(subset=['age'], inplace=True)\n",
        "df['user_time_accident'].fillna(df['user_time_accident'].median(), inplace=True)\n",
        "result = df[['age', 'user_rides', 'user_time_accident']]"
      ],
      "metadata": {
        "id": "0hpJkkF8QzXD"
      },
      "execution_count": null,
      "outputs": []
    }
  ]
}